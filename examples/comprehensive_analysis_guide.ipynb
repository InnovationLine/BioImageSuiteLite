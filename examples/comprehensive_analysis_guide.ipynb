{
  "cells": [
    {
      "cell_type": "markdown",
      "metadata": {
        "vscode": {
          "languageId": "raw"
        }
      },
      "source": [
        "# BioImageSuiteLite: Comprehensive Analysis Guide\n",
        "\n",
        "## Table of Contents\n",
        "1. [Introduction](#introduction)\n",
        "2. [Installation and Setup](#installation)\n",
        "3. [Loading and Visualizing Data](#loading-data)\n",
        "4. [ROI Definition and Management](#roi-management)\n",
        "5. [Parameter Optimization](#parameter-optimization)\n",
        "6. [Running Analysis](#running-analysis)\n",
        "7. [Understanding Results](#understanding-results)\n",
        "8. [Exporting and Post-Processing](#exporting)\n",
        "9. [Troubleshooting](#troubleshooting)\n",
        "10. [Advanced Tips](#advanced-tips)\n",
        "\n",
        "---\n",
        "\n",
        "## 1. Introduction <a id=\"introduction\"></a>\n",
        "\n",
        "BioImageSuiteLite is designed for detecting and analyzing transient cellular events in time-lapse microscopy data. This notebook provides a comprehensive guide to using all features of the software.\n",
        "\n",
        "### What types of events can be detected?\n",
        "- **Calcium transients** in neurons or other excitable cells\n",
        "- **Vesicle fusion events** at the cell membrane\n",
        "- **Fluorescence fluctuations** from reporter proteins\n",
        "- Any **transient intensity changes** in time-lapse imaging\n",
        "\n",
        "### Detection Methods Available:\n",
        "1. **Threshold-based detection**: Finds events when intensity crosses a threshold\n",
        "2. **Difference of Gaussians (DoG)**: Detects blob-like features and intensity peaks\n",
        "3. **Scisson-like analysis**: For step-like changes (currently in development)\n"
      ]
    },
    {
      "cell_type": "markdown",
      "metadata": {
        "vscode": {
          "languageId": "raw"
        }
      },
      "source": [
        "## 2. Installation and Setup <a id=\"installation\"></a>\n",
        "\n",
        "Before starting, ensure you have BioImageSuiteLite installed. If you're running this notebook from the repository, we'll set up the environment.\n"
      ]
    },
    {
      "cell_type": "code",
      "execution_count": 1,
      "metadata": {},
      "outputs": [
        {
          "name": "stdout",
          "output_type": "stream",
          "text": [
            "✓ Added parent directory to Python path\n",
            "2025-06-16 11:23:08 [INFO] BioImageSuiteLite: Logging initialized.\n",
            "✓ Successfully imported BioImageSuiteLite modules\n",
            "✓ Matplotlib configured for inline plotting\n"
          ]
        }
      ],
      "source": [
        "# Setup the environment\n",
        "import sys\n",
        "import os\n",
        "import numpy as np\n",
        "import matplotlib.pyplot as plt\n",
        "from datetime import datetime\n",
        "\n",
        "# Add parent directory to path if running from repo\n",
        "if os.path.exists('../BioImageSuiteLite'):\n",
        "    sys.path.insert(0, os.path.abspath('..'))\n",
        "    print(\"✓ Added parent directory to Python path\")\n",
        "else:\n",
        "    print(\"✓ Using installed BioImageSuiteLite package\")\n",
        "\n",
        "# Import BioImageSuiteLite modules\n",
        "try:\n",
        "    from BioImageSuiteLite import gui_manager, io_operations, analysis_processor, roi_handler\n",
        "    print(\"✓ Successfully imported BioImageSuiteLite modules\")\n",
        "except ImportError as e:\n",
        "    print(\"✗ Error importing modules:\", e)\n",
        "    print(\"Please ensure BioImageSuiteLite is properly installed\")\n",
        "\n",
        "# Set up matplotlib for inline plotting\n",
        "%matplotlib inline\n",
        "plt.style.use('seaborn-v0_8-darkgrid')\n",
        "print(\"✓ Matplotlib configured for inline plotting\")\n"
      ]
    },
    {
      "cell_type": "markdown",
      "metadata": {
        "vscode": {
          "languageId": "raw"
        }
      },
      "source": [
        "## 3. Loading and Visualizing Data <a id=\"loading-data\"></a>\n",
        "\n",
        "BioImageSuiteLite supports both `.avi` video files and multi-page `.tif`/`.tiff` files. The software automatically converts color videos to greyscale for analysis.\n",
        "\n",
        "### Step 3.1: Launch the GUI\n",
        "\n",
        "First, let's launch the BioImageSuiteLite interface. A new window will open with the analysis tools.\n",
        "\n",
        "**What to expect:**\n",
        "- A Napari viewer window will open showing your data\n",
        "- Control panels on the right side for analysis parameters\n",
        "- Results table and log at the bottom\n",
        "\n",
        "**Action required:** Run the cell below and wait for the GUI to open.\n"
      ]
    },
    {
      "cell_type": "code",
      "execution_count": 2,
      "metadata": {},
      "outputs": [
        {
          "name": "stdout",
          "output_type": "stream",
          "text": [
            "Launching BioImageSuiteLite...\n",
            "==================================================\n",
            "IMPORTANT: A new window will open\n",
            "Do NOT close this notebook while using the GUI\n",
            "==================================================\n",
            "2025-06-16 11:23:08 [INFO] BioImageSuiteLite: Logging initialized.\n",
            "INFO: Pixel size set to 0.160 µm/pixel.\n"
          ]
        }
      ],
      "source": [
        "# Launch the BioImageSuiteLite GUI\n",
        "import warnings\n",
        "import logging\n",
        "\n",
        "# Suppress the FutureWarning about qt_viewer\n",
        "warnings.filterwarnings('ignore', category=FutureWarning, module='BioImageSuiteLite.gui_manager')\n",
        "\n",
        "# Configure logging to avoid showing full paths\n",
        "logging.getLogger('BioImageSuiteLite').handlers = []\n",
        "\n",
        "print(\"Launching BioImageSuiteLite...\")\n",
        "print(\"=\" * 50)\n",
        "print(\"IMPORTANT: A new window will open\")\n",
        "print(\"Do NOT close this notebook while using the GUI\")\n",
        "print(\"=\" * 50)\n",
        "\n",
        "# Start the application\n",
        "gui_manager.main()\n",
        "\n",
        "# Note: The cell will continue running while the GUI is open\n",
        "# This is normal - the GUI runs in its own event loop\n"
      ]
    },
    {
      "cell_type": "markdown",
      "metadata": {
        "vscode": {
          "languageId": "raw"
        }
      },
      "source": [
        "### Step 3.2: Load Your Video File\n",
        "\n",
        "Now that the GUI is open, let's load your data:\n",
        "\n",
        "1. **Click \"Load File\"** button in the File Operations section\n",
        "2. **Navigate to your video file** (.avi or .tif/.tiff) and select it\n",
        "3. The video will be loaded and automatically converted to greyscale if needed\n",
        "\n",
        "**What happens during loading:**\n",
        "- The software reads all frames from the video\n",
        "- For AVI files: Extracts frames and metadata (FPS, dimensions)\n",
        "- For TIFF files: Reads all pages and attempts to extract FPS from metadata\n",
        "- Converts RGB to greyscale using standard luminance weights\n",
        "- Displays the first frame in the viewer\n",
        "\n",
        "**Tips:**\n",
        "- Supported formats: `.avi`, `.tif`, and `.tiff` files\n",
        "- Large files may take a moment to load\n",
        "- The status will show frame count, FPS, and dimensions\n",
        "- For TIFF files without FPS metadata, a default of 30 FPS is used\n",
        "\n",
        "![Load File Button Location](data:image/png;base64,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)\n"
      ]
    },
    {
      "cell_type": "code",
      "execution_count": 3,
      "metadata": {},
      "outputs": [
        {
          "data": {
            "text/markdown": [
              "![Load File Button Location](data:image/png;base64,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)"
            ],
            "text/plain": [
              "<IPython.core.display.Markdown object>"
            ]
          },
          "metadata": {},
          "output_type": "display_data"
        }
      ],
      "source": [
        "import base64\n",
        "from IPython.display import display, Markdown\n",
        "\n",
        "# Path to the local image file from the root of your project\n",
        "image_path = \"images/load_file_button.png\"\n",
        "\n",
        "# Read the image file in binary mode\n",
        "with open(image_path, \"rb\") as image_file:\n",
        "    encoded_string = base64.b64encode(image_file.read()).decode()\n",
        "\n",
        "# Create the full markdown string for the embedded image\n",
        "# This is the string you can copy and paste into a markdown cell\n",
        "markdown_string = f\"![Load File Button Location](data:image/png;base64,{encoded_string})\"\n",
        "display(Markdown(markdown_string))"
      ]
    },
    {
      "cell_type": "markdown",
      "metadata": {},
      "source": [
        "**After loading, you should see:**\n",
        "- Your video displayed in the main viewer\n",
        "- Frame slider at the bottom to navigate through time\n",
        "- File information displayed in the control panel\n"
      ]
    },
    {
      "cell_type": "markdown",
      "metadata": {
        "vscode": {
          "languageId": "raw"
        }
      },
      "source": [
        "### Step 3.3: Set Pixel Size (Important!)\n",
        "\n",
        "Before analysis, you must set the correct pixel size for your microscope:\n",
        "\n",
        "1. **Locate \"Pixel Size (µm/pixel)\"** in the Preprocessing section\n",
        "2. **Enter your microscope's pixel size** (default is 0.16 µm/pixel)\n",
        "3. The value updates automatically when you change it\n",
        "\n",
        "**Why this matters:**\n",
        "- Event rates are normalized by area (events/second/µm²)\n",
        "- Incorrect pixel size will give wrong absolute rates\n",
        "- This value depends on your microscope objective and camera\n",
        "\n",
        "**How to find your pixel size:**\n",
        "- Check your microscope's specifications\n",
        "- Calculate from known object dimensions\n",
        "- Common values: \n",
        "  - 100x objective: 0.065-0.13 µm/pixel\n",
        "  - 60x objective: 0.11-0.22 µm/pixel\n",
        "  - 40x objective: 0.16-0.33 µm/pixel\n",
        "  - 20x objective: 0.32-0.65 µm/pixel\n",
        "\n",
        "![Pixel Size Setting](images/pixel_size_setting.png)\n"
      ]
    },
    {
      "cell_type": "markdown",
      "metadata": {
        "vscode": {
          "languageId": "raw"
        }
      },
      "source": [
        "## 4. ROI Definition and Management <a id=\"roi-management\"></a>\n",
        "\n",
        "Regions of Interest (ROIs) define where to analyze events. You can draw multiple ROIs to compare different cells or regions.\n",
        "\n",
        "### Step 4.1: Activate ROI Drawing Mode\n",
        "\n",
        "1. **Click \"Activate ROI Drawing\"** button\n",
        "2. The button text changes to \"Finish ROI Drawing\"\n",
        "3. Your cursor becomes a drawing tool\n",
        "\n",
        "### Step 4.2: Draw ROIs\n",
        "\n",
        "1. **Click points around your cell/region** to create a polygon\n",
        "2. **Double-click to close** the polygon\n",
        "3. The ROI will appear with a red outline\n",
        "4. **Repeat** for additional ROIs\n",
        "\n",
        "**Best practices for ROI drawing:**\n",
        "- Draw tightly around individual cells\n",
        "- Avoid overlapping ROIs\n",
        "- Include the entire cell body\n",
        "- Exclude background regions\n",
        "- For neurons: include soma and proximal dendrites\n",
        "\n",
        "![ROI Drawing Example](images/roi_drawing.png)\n",
        "\n",
        "### Step 4.3: Manage ROIs\n",
        "\n",
        "**ROI Information displayed:**\n",
        "- ROI ID number\n",
        "- Area in pixels and µm²\n",
        "- Automatically calculated after drawing\n",
        "\n",
        "**ROI Management options:**\n",
        "- **Clear All ROIs**: Remove all ROIs and start over\n",
        "- **Select ROI**: Click on an ROI to select it\n",
        "- Selected ROIs are used for parameter estimation\n",
        "\n",
        "### Step 4.4: Finish ROI Drawing\n",
        "\n",
        "When done drawing ROIs:\n",
        "1. **Click \"Finish ROI Drawing\"** to exit drawing mode\n",
        "2. The viewer returns to pan/zoom mode\n",
        "3. You can now select and modify existing ROIs\n"
      ]
    },
    {
      "cell_type": "markdown",
      "metadata": {
        "vscode": {
          "languageId": "raw"
        }
      },
      "source": [
        "## 5. Parameter Optimization <a id=\"parameter-optimization\"></a>\n",
        "\n",
        "Proper parameter selection is crucial for accurate event detection. BioImageSuiteLite offers both automatic and manual parameter optimization.\n",
        "\n",
        "### Step 5.1: Understanding Detection Parameters\n",
        "\n",
        "#### Threshold Detection Parameters:\n",
        "- **Enable Threshold Detection**: Check to use this method\n",
        "- **Threshold Value**: Intensity level that triggers an event\n",
        "- **Use Otsu**: Automatically calculate optimal threshold\n",
        "\n",
        "#### DoG (Difference of Gaussians) Parameters:\n",
        "- **Enable DoG Detection**: Check to use this method\n",
        "- **Sigma 1**: Smaller gaussian kernel (typically 1-5)\n",
        "- **Sigma 2**: Larger gaussian kernel (typically 2-10)\n",
        "- **Min Prominence**: Minimum peak height (0 = auto)\n",
        "\n",
        "#### General Parameters:\n",
        "- **Min Event Separation**: Minimum time between events (seconds)\n",
        "  - Prevents double-counting of the same event\n",
        "  - Typical values: 0.1-1.0 seconds\n",
        "\n",
        "### Step 5.2: Automatic Parameter Estimation\n",
        "\n",
        "BioImageSuiteLite can estimate optimal DoG parameters from your data:\n",
        "\n",
        "1. **Select one or more ROIs** by clicking on them\n",
        "2. **Click \"Auto-set Params from ROI\"**\n",
        "3. Parameters will be calculated based on the intensity profile\n",
        "\n",
        "**How it works:**\n",
        "- Analyzes intensity fluctuations in selected ROIs\n",
        "- If multiple ROIs selected: averages their traces for global parameters\n",
        "- Estimates optimal sigma values based on event characteristics\n",
        "- Sets prominence based on noise level\n",
        "\n",
        "![Auto Parameter Setting](images/auto_params.png)\n"
      ]
    },
    {
      "cell_type": "markdown",
      "metadata": {
        "vscode": {
          "languageId": "raw"
        }
      },
      "source": [
        "### Step 5.3: Manual Parameter Tuning Guide\n",
        "\n",
        "If automatic estimation doesn't work well, here's how to manually optimize:\n",
        "\n",
        "#### For Threshold Detection:\n",
        "1. **Start with Otsu** (check \"Use Otsu\")\n",
        "2. Run analysis and check results\n",
        "3. If too many false positives: increase threshold\n",
        "4. If missing events: decrease threshold\n",
        "\n",
        "#### For DoG Detection:\n",
        "1. **Sigma 1**: Set to approximate radius of your events (in pixels)\n",
        "2. **Sigma 2**: Set to 1.5-2x Sigma 1\n",
        "3. **Min Prominence**: Start at 0 (auto), increase if too many false detections\n",
        "\n",
        "#### Parameter Tuning Strategy:\n",
        "1. **Enable only one method at a time** initially\n",
        "2. **Test on a single ROI** first\n",
        "3. **Adjust parameters** based on results\n",
        "4. **Apply to all ROIs** once optimized\n",
        "\n",
        "**Common parameter sets by application:**\n",
        "- **Calcium transients**: Sigma1=2-4, Sigma2=4-8, Prominence=10-50\n",
        "- **Vesicle fusion**: Sigma1=1-2, Sigma2=2-4, Prominence=5-20\n",
        "- **Large events**: Sigma1=5-10, Sigma2=10-20, Prominence=20-100\n",
        "\n",
        "### Step 5.4: Understanding Event Types in Results\n",
        "\n",
        "When both detection methods are enabled, you may see different event types:\n",
        "- **\"threshold\"**: Events detected by intensity threshold crossing\n",
        "- **\"dog\"**: Events detected by Difference of Gaussians peaks\n",
        "\n",
        "The Min Event Separation parameter helps merge events detected by both methods if they occur close in time.\n"
      ]
    },
    {
      "cell_type": "markdown",
      "metadata": {
        "vscode": {
          "languageId": "raw"
        }
      },
      "source": [
        "## 6. Running Analysis <a id=\"running-analysis\"></a>\n",
        "\n",
        "Once parameters are set, you're ready to analyze your data.\n",
        "\n",
        "### Step 6.1: Run Full Analysis\n",
        "\n",
        "1. **Ensure at least one detection method is enabled**\n",
        "2. **Click \"Run Full Analysis\"** button\n",
        "3. **Wait for processing** (progress shown in log)\n",
        "\n",
        "**What happens during analysis:**\n",
        "1. For each ROI:\n",
        "   - Extract mean intensity trace\n",
        "   - Apply enabled detection methods\n",
        "   - Filter duplicate events\n",
        "   - Calculate normalized rates\n",
        "2. Results appear in the table\n",
        "3. Summary statistics are calculated\n",
        "\n",
        "![Run Analysis Button](images/run_analysis.png)\n",
        "\n",
        "### Step 6.2: Monitor Progress\n",
        "\n",
        "Watch the log window for:\n",
        "- Processing status for each ROI\n",
        "- Number of events detected\n",
        "- Any warnings or errors\n",
        "- Completion message\n",
        "\n",
        "**Typical processing time:**\n",
        "- Small dataset (100 frames): < 1 second\n",
        "- Medium dataset (1000 frames): 2-5 seconds\n",
        "- Large dataset (10000 frames): 10-30 seconds\n",
        "\n",
        "### Step 6.3: Analysis Complete\n",
        "\n",
        "When analysis finishes:\n",
        "- Results table populates with all detected events\n",
        "- Summary statistics are calculated for each ROI\n",
        "- \"Show Summary Plot\" and \"Export Results to CSV\" buttons become enabled\n"
      ]
    },
    {
      "cell_type": "markdown",
      "metadata": {
        "vscode": {
          "languageId": "raw"
        }
      },
      "source": [
        "## 7. Understanding Results <a id=\"understanding-results\"></a>\n",
        "\n",
        "### Step 7.1: Results Table\n",
        "\n",
        "The results table shows detailed information for each detected event:\n",
        "\n",
        "| Column | Description |\n",
        "|--------|-------------|\n",
        "| **ROI ID** | Which ROI the event occurred in |\n",
        "| **Type** | Detection method (threshold, dog, scisson) |\n",
        "| **Start (s)** | When the event began |\n",
        "| **End (s)** | When the event ended |\n",
        "| **Duration (s)** | How long the event lasted |\n",
        "| **Events/s/µm²** | Normalized event rate |\n",
        "| **Details** | Method-specific parameters |\n",
        "\n",
        "### Step 7.2: Interpreting Event Rates\n",
        "\n",
        "**Events/s/µm²** is the key metric:\n",
        "- Normalized by ROI area and observation time\n",
        "- Allows comparison between different sized ROIs\n",
        "- Standard unit for reporting in publications\n",
        "\n",
        "**Example interpretation:**\n",
        "- Rate = 5.250e-02 events/s/µm²\n",
        "- Means ~0.0525 events per second per µm²\n",
        "- Or ~3.15 events per minute per µm²\n",
        "- Or ~52.5 events per 1000 seconds per µm²\n",
        "\n",
        "### Step 7.3: Summary Plot\n",
        "\n",
        "Click **\"Show Summary Plot\"** to visualize:\n",
        "- Event rates for each ROI\n",
        "- Error bars showing standard error\n",
        "- Comparison across all analyzed ROIs\n",
        "\n",
        "![Summary Plot Example](images/summary_plot.png)\n"
      ]
    },
    {
      "cell_type": "markdown",
      "metadata": {
        "vscode": {
          "languageId": "raw"
        }
      },
      "source": [
        "## 8. Exporting and Post-Processing <a id=\"exporting\"></a>\n",
        "\n",
        "### Step 8.1: Export Results to CSV\n",
        "\n",
        "1. **Click \"Export Results to CSV\"**\n",
        "2. Choose save location\n",
        "3. File will contain:\n",
        "   - Header with analysis timestamp\n",
        "   - All event details\n",
        "   - Can be opened in Excel/spreadsheet software\n",
        "\n",
        "**CSV Format:**\n",
        "```\n",
        "Analysis Run At: 2025-01-15 11:53:51\n",
        "ROI ID,Type,Start (s),End (s),Duration (s),Events/s/µm²,Details\n",
        "1,threshold,10.5,11.2,0.7,5.250e-02,threshold_value:128\n",
        "1,dog,15.3,15.8,0.5,5.250e-02,prominence:25.3\n",
        "...\n",
        "```\n",
        "\n",
        "### Step 8.2: Working with Exported Data\n",
        "\n",
        "The CSV file can be used for:\n",
        "- Statistical analysis in R or Python\n",
        "- Creating publication-quality figures\n",
        "- Comparing results across experiments\n",
        "- Archiving analysis results\n"
      ]
    },
    {
      "cell_type": "code",
      "execution_count": 4,
      "metadata": {},
      "outputs": [
        {
          "name": "stdout",
          "output_type": "stream",
          "text": [
            "Events by Detection Type:\n",
            "Type\n",
            "threshold    5\n",
            "dog          4\n",
            "Name: count, dtype: int64\n",
            "\n",
            "Mean Duration by Type:\n",
            "Type\n",
            "dog          0.675\n",
            "threshold    1.060\n",
            "Name: Duration (s), dtype: float64\n"
          ]
        },
        {
          "data": {
            "image/png": "[encoded data removed]",
            "text/plain": [
              "<Figure size 1000x400 with 1 Axes>"
            ]
          },
          "metadata": {},
          "output_type": "display_data"
        }
      ],
      "source": [
        "# Example: Post-processing exported CSV data\n",
        "# This code demonstrates how to load and analyze your exported results\n",
        "\n",
        "import pandas as pd\n",
        "import matplotlib.pyplot as plt\n",
        "\n",
        "# Example of loading exported CSV (replace with your file path)\n",
        "# df = pd.read_csv('your_results.csv', skiprows=1)\n",
        "\n",
        "# Create sample data for demonstration\n",
        "sample_data = {\n",
        "    'ROI ID': [1, 1, 1, 2, 2, 2, 2, 3, 3],\n",
        "    'Type': ['threshold', 'threshold', 'dog', 'threshold', 'threshold', 'dog', 'dog', 'threshold', 'dog'],\n",
        "    'Start (s)': [10.5, 25.3, 30.1, 5.2, 15.7, 22.4, 35.6, 12.3, 28.9],\n",
        "    'Duration (s)': [0.7, 1.2, 0.5, 0.8, 1.5, 0.6, 0.9, 1.1, 0.7],\n",
        "    'Events/s/µm²': [5.2e-03, 5.2e-03, 5.2e-03, 3.8e-03, 3.8e-03, 3.8e-03, 3.8e-03, 6.1e-03, 6.1e-03]\n",
        "}\n",
        "\n",
        "df = pd.DataFrame(sample_data)\n",
        "\n",
        "# Analyze by detection type\n",
        "print(\"Events by Detection Type:\")\n",
        "print(df['Type'].value_counts())\n",
        "print(\"\\nMean Duration by Type:\")\n",
        "print(df.groupby('Type')['Duration (s)'].mean())\n",
        "\n",
        "# Plot event timeline\n",
        "fig, ax = plt.subplots(figsize=(10, 4))\n",
        "\n",
        "# Create handles for legend\n",
        "from matplotlib.patches import Rectangle\n",
        "threshold_patch = Rectangle((0, 0), 1, 1, fc='blue', alpha=0.7)\n",
        "dog_patch = Rectangle((0, 0), 1, 1, fc='red', alpha=0.7)\n",
        "\n",
        "for roi_id in df['ROI ID'].unique():\n",
        "    roi_data = df[df['ROI ID'] == roi_id]\n",
        "    y_pos = roi_id\n",
        "    for _, event in roi_data.iterrows():\n",
        "        color = 'blue' if event['Type'] == 'threshold' else 'red'\n",
        "        ax.barh(y_pos, event['Duration (s)'], left=event['Start (s)'], \n",
        "                height=0.5, color=color, alpha=0.7)\n",
        "\n",
        "ax.set_xlabel('Time (s)')\n",
        "ax.set_ylabel('ROI ID')\n",
        "ax.set_title('Event Timeline by ROI')\n",
        "ax.legend([threshold_patch, dog_patch], ['Threshold', 'DoG'])\n",
        "plt.tight_layout()\n",
        "plt.show()\n"
      ]
    },
    {
      "cell_type": "markdown",
      "metadata": {
        "vscode": {
          "languageId": "raw"
        }
      },
      "source": [
        "## 9. Troubleshooting <a id=\"troubleshooting\"></a>\n",
        "\n",
        "### Common Issues and Solutions\n",
        "\n",
        "#### No events detected:\n",
        "- **Check threshold**: May be too high\n",
        "- **Verify ROI placement**: Ensure ROI covers active regions\n",
        "- **Increase recording time**: Short recordings may miss events\n",
        "- **Check data quality**: Low SNR may prevent detection\n",
        "\n",
        "#### Too many false positives:\n",
        "- **Increase Min Event Separation**: Filter rapid fluctuations\n",
        "- **Increase threshold or prominence**: Be more selective\n",
        "- **Check for motion artifacts**: Stabilize video if needed\n",
        "- **Reduce detection sensitivity**: Use only one method\n",
        "\n",
        "#### Different results between methods:\n",
        "- **This is normal**: Methods detect different features\n",
        "- **Threshold**: Detects intensity crossings\n",
        "- **DoG**: Detects blob-like features\n",
        "- **Use both**: For comprehensive analysis\n",
        "\n",
        "#### Analysis crashes or hangs:\n",
        "- **Check memory usage**: Large videos need more RAM\n",
        "- **Reduce number of ROIs**: Process in batches\n",
        "- **Update software**: Check for latest version\n",
        "- **Check video format**: Ensure proper encoding\n",
        "\n",
        "### Error Messages\n",
        "\n",
        "**\"FPS is zero or invalid\"**\n",
        "- Video metadata is corrupted\n",
        "- For TIFF files: FPS defaults to 30 if not in metadata\n",
        "\n",
        "**\"ROI has zero area\"**\n",
        "- ROI is too small or improperly drawn\n",
        "- Redraw ROI with larger area\n",
        "\n",
        "**\"Could not get intensity trace\"**\n",
        "- ROI may be outside image bounds\n",
        "- Check ROI placement\n"
      ]
    },
    {
      "cell_type": "markdown",
      "metadata": {
        "vscode": {
          "languageId": "raw"
        }
      },
      "source": [
        "## 10. Advanced Tips <a id=\"advanced-tips\"></a>\n",
        "\n",
        "### Batch Processing Multiple Files\n",
        "\n",
        "While the GUI processes one file at a time, you can script batch processing:\n"
      ]
    },
    {
      "cell_type": "code",
      "execution_count": 5,
      "metadata": {},
      "outputs": [],
      "source": [
        "# Example: Batch processing workflow (conceptual)\n",
        "# Note: This requires programmatic access to the analysis functions\n",
        "\n",
        "import os\n",
        "from pathlib import Path\n",
        "\n",
        "# Define batch processing function\n",
        "def batch_process_videos(video_folder, output_folder, params):\n",
        "    \"\"\"\n",
        "    Process multiple videos with the same parameters\n",
        "    \n",
        "    Args:\n",
        "        video_folder: Path to folder containing video files\n",
        "        output_folder: Where to save results\n",
        "        params: Dictionary of analysis parameters\n",
        "    \"\"\"\n",
        "    # Find all video files (both AVI and TIFF)\n",
        "    video_files = list(Path(video_folder).glob(\"*.avi\"))\n",
        "    video_files.extend(list(Path(video_folder).glob(\"*.tif\")))\n",
        "    video_files.extend(list(Path(video_folder).glob(\"*.tiff\")))\n",
        "    \n",
        "    results_summary = []\n",
        "    \n",
        "    for video_file in video_files:\n",
        "        print(f\"Processing: {video_file.name}\")\n",
        "        \n",
        "        # Pseudocode for processing steps:\n",
        "        # 1. Load video\n",
        "        # frames, metadata = io_operations.load_file(str(video_file))\n",
        "        \n",
        "        # 2. Convert to greyscale\n",
        "        # grey_stack = io_operations.convert_to_greyscale_stack(frames)\n",
        "        \n",
        "        # 3. Define ROIs (could load from file or use automatic detection)\n",
        "        # roi_manager = roi_handler.ROIManager(grey_stack.shape)\n",
        "        \n",
        "        # 4. Run analysis with specified parameters\n",
        "        # results = run_analysis(grey_stack, roi_manager, params)\n",
        "        \n",
        "        # 5. Save results\n",
        "        # output_path = output_folder / f\"{video_file.stem}_results.csv\"\n",
        "        # save_results(results, output_path)\n",
        "        \n",
        "        # results_summary.append({\n",
        "        #     'file': video_file.name,\n",
        "        #     'n_events': len(results),\n",
        "        #     'mean_rate': calculate_mean_rate(results)\n",
        "        # })\n",
        "    \n",
        "    return results_summary\n",
        "\n",
        "# Example parameters for batch processing\n",
        "batch_params = {\n",
        "    'threshold_enabled': True,\n",
        "    'threshold_value': 128,\n",
        "    'use_otsu': False,\n",
        "    'dog_enabled': True,\n",
        "    'dog_sigma1': 2.0,\n",
        "    'dog_sigma2': 4.0,\n",
        "    'dog_prominence': 10.0,\n",
        "    'min_event_separation': 0.5\n",
        "}\n",
        "\n",
        "# Example usage (uncomment to run):\n",
        "# results = batch_process_videos(\"./videos\", \"./results\", batch_params)\n"
      ]
    },
    {
      "cell_type": "markdown",
      "metadata": {
        "vscode": {
          "languageId": "raw"
        }
      },
      "source": [
        "### Performance Optimization\n",
        "\n",
        "For large datasets or many ROIs:\n",
        "\n",
        "1. **Process in chunks**: Analyze subsets of ROIs\n",
        "2. **Reduce frame rate**: Downsample if events are slow\n",
        "3. **Use appropriate parameters**: Avoid overly sensitive detection\n",
        "4. **Close other applications**: Free up system memory\n",
        "\n",
        "### Integration with Other Tools\n",
        "\n",
        "BioImageSuiteLite results can be used with:\n",
        "- **ImageJ/Fiji**: Import TIFF stacks for further analysis\n",
        "- **Python**: Load CSV results for custom analysis\n",
        "- **R**: Statistical analysis of event rates\n",
        "- **GraphPad Prism**: Publication-quality plots\n",
        "\n",
        "### Publishing Your Results\n",
        "\n",
        "When reporting BioImageSuiteLite results:\n",
        "1. **Cite the software** (see README for citation)\n",
        "2. **Report all parameters** used for analysis\n",
        "3. **Include pixel size** and imaging conditions\n",
        "4. **Show representative traces** and ROIs\n",
        "5. **Report as**: events/s/µm² ± SEM\n",
        "\n",
        "### Future Features\n",
        "\n",
        "Planned enhancements include:\n",
        "- Support for more file formats (.nd2, .czi)\n",
        "- Automatic ROI detection\n",
        "- Machine learning-based event detection\n",
        "- Real-time analysis during acquisition\n",
        "- 3D ROI support for volumetric data\n",
        "\n",
        "---\n",
        "\n",
        "## Conclusion\n",
        "\n",
        "This guide covered the complete workflow for analyzing cellular events with BioImageSuiteLite. For specific questions or feature requests, please visit our [GitHub repository](https://github.com/raju1stnov/BioImageSuiteLite).\n",
        "\n",
        "Happy analyzing!\n"
      ]
    },
    {
      "cell_type": "code",
      "execution_count": 6,
      "metadata": {},
      "outputs": [
        {
          "name": "stdout",
          "output_type": "stream",
          "text": [
            "c:\\kaushik\\project_work\\BioImageSuiteLite\\examples\n"
          ]
        }
      ],
      "source": [
        "import os\n",
        "print(os.getcwd())"
      ]
    }
  ],
  "metadata": {
    "language_info": {
      "name": "python"
    }
  },
  "nbformat": 4,
  "nbformat_minor": 2
}
