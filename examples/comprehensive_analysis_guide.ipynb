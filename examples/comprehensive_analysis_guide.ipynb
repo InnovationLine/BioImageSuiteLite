{
  "cells": [
    {
      "cell_type": "markdown",
      "metadata": {},
      "source": [
        "# BioImageSuiteLite: Comprehensive Analysis Guide\n",
        "\n",
        "## Table of Contents\n",
        "1. [Introduction](#introduction)\n",
        "2. [Installation and Setup](#installation)\n",
        "3. [Loading and Visualizing Data](#loading-data)\n",
        "4. [ROI Definition and Management](#roi-management)\n",
        "5. [Parameter Optimization](#parameter-optimization)\n",
        "6. [Running Analysis](#running-analysis)\n",
        "7. [Understanding Results](#understanding-results)\n",
        "8. [Exporting and Post-Processing](#exporting)\n",
        "9. [Troubleshooting](#troubleshooting)\n",
        "10. [Advanced Tips](#advanced-tips)\n",
        "\n",
        "---\n",
        "\n",
        "## 1. Introduction <a id=\"introduction\"></a>\n",
        "\n",
        "BioImageSuiteLite is designed for detecting and analyzing transient cellular events in time-lapse microscopy data. This notebook provides a comprehensive guide to using all features of the software.\n",
        "\n",
        "### What types of events can be detected?\n",
        "- **Calcium transients** in neurons or other excitable cells\n",
        "- **Vesicle fusion events** at the cell membrane\n",
        "- **Fluorescence fluctuations** from reporter proteins\n",
        "- Any **transient intensity changes** in time-lapse imaging\n",
        "\n",
        "### Detection Methods Available:\n",
        "1. **Threshold-based detection**: Finds events when intensity crosses a threshold\n",
        "2. **Difference of Gaussians (DoG)**: Detects blob-like features and intensity peaks\n",
        "3. **Scisson-like analysis**: For step-like changes (currently in development)"
      ]
    },
    {
      "cell_type": "markdown",
      "metadata": {},
      "source": [
        "## 2. Installation and Setup <a id=\"installation\"></a>\n",
        "\n",
        "Before starting, ensure you have BioImageSuiteLite installed. If you're running this notebook from the repository, we'll set up the environment.\n"
      ]
    },
    {
      "cell_type": "code",
      "execution_count": 1,
      "metadata": {},
      "outputs": [
        {
          "name": "stdout",
          "output_type": "stream",
          "text": [
            "✓ Added parent directory to Python path\n",
            "2025-06-15 12:16:44 [INFO] BioImageSuiteLite: Logging initialized.\n",
            "✓ Successfully imported BioImageSuiteLite modules\n",
            "✓ Matplotlib configured for inline plotting\n"
          ]
        }
      ],
      "source": [
        "# Setup the environment\n",
        "import sys\n",
        "import os\n",
        "import numpy as np\n",
        "import matplotlib.pyplot as plt\n",
        "from datetime import datetime\n",
        "\n",
        "# Add parent directory to path if running from repo\n",
        "if os.path.exists('../BioImageSuiteLite'):\n",
        "    sys.path.insert(0, os.path.abspath('..'))\n",
        "    print(\"✓ Added parent directory to Python path\")\n",
        "else:\n",
        "    print(\"✓ Using installed BioImageSuiteLite package\")\n",
        "\n",
        "# Import BioImageSuiteLite modules\n",
        "try:\n",
        "    from BioImageSuiteLite import gui_manager, io_operations, analysis_processor, roi_handler\n",
        "    print(\"✓ Successfully imported BioImageSuiteLite modules\")\n",
        "except ImportError as e:\n",
        "    print(\"✗ Error importing modules:\", e)\n",
        "    print(\"Please ensure BioImageSuiteLite is properly installed\")\n",
        "\n",
        "# Set up matplotlib for inline plotting\n",
        "%matplotlib inline\n",
        "plt.style.use('seaborn-v0_8-darkgrid')\n",
        "print(\"✓ Matplotlib configured for inline plotting\")\n"
      ]
    },
    {
      "cell_type": "markdown",
      "metadata": {},
      "source": [
        "## 3. Loading and Visualizing Data <a id=\"loading-data\"></a>\n",
        "\n",
        "BioImageSuiteLite currently supports `.avi` video files. The software automatically converts color videos to greyscale for analysis.\n",
        "\n",
        "### Step 3.1: Launch the GUI\n",
        "\n",
        "First, let's launch the BioImageSuiteLite interface. A new window will open with the analysis tools.\n",
        "\n",
        "**What to expect:**\n",
        "- A Napari viewer window will open showing your data\n",
        "- Control panels on the right side for analysis parameters\n",
        "- Results table and log at the bottom\n",
        "\n",
        "**Action required:** Run the cell below and wait for the GUI to open."
      ]
    },
    {
      "cell_type": "code",
      "execution_count": 5,
      "metadata": {},
      "outputs": [
        {
          "name": "stdout",
          "output_type": "stream",
          "text": [
            "Launching BioImageSuiteLite...\n",
            "==================================================\n",
            "IMPORTANT: A new window will open\n",
            "Do NOT close this notebook while using the GUI\n",
            "==================================================\n",
            "2025-06-15 12:19:42 [INFO] BioImageSuiteLite: Logging initialized.\n"
          ]
        },
        {
          "name": "stderr",
          "output_type": "stream",
          "text": [
            "WARNING: QWindowsWindow::setGeometry: Unable to set geometry 1086x655+640+290 (frame: 1102x694+632+259) on QWidgetWindow/\"_QtMainWindowClassWindow\" on \"\\\\.\\DISPLAY1\". Resulting geometry: 723x642+637+276 (frame: 739x681+629+245) margins: 8, 31, 8, 8 minimum size: 385x484 MINMAXINFO maxSize=0,0 maxpos=0,0 mintrack=401,523 maxtrack=0,0)\n"
          ]
        },
        {
          "name": "stdout",
          "output_type": "stream",
          "text": [
            "2025-06-15 12:19:43 [WARNING] vispy: QWindowsWindow::setGeometry: Unable to set geometry 1086x655+640+290 (frame: 1102x694+632+259) on QWidgetWindow/\"_QtMainWindowClassWindow\" on \"\\\\.\\DISPLAY1\". Resulting geometry: 723x642+637+276 (frame: 739x681+629+245) margins: 8, 31, 8, 8 minimum size: 385x484 MINMAXINFO maxSize=0,0 maxpos=0,0 mintrack=401,523 maxtrack=0,0)\n",
            "INFO: Pixel size set to 0.160 µm/pixel.\n"
          ]
        },
        {
          "name": "stderr",
          "output_type": "stream",
          "text": [
            "c:\\kaushik\\project_work\\BioImageSuiteLite\\BioImageSuiteLite\\gui_manager.py:214: FutureWarning: Public access to Window.qt_viewer is deprecated and will be removed in\n",
            "v0.7.0. It is considered an \"implementation detail\" of the napari\n",
            "application, not part of the napari viewer model. If your use case\n",
            "requires access to qt_viewer, please open an issue to discuss.\n",
            "  splitter.setSizes([int(self.viewer.window.qt_viewer.height() * 0.6), int(self.viewer.window.qt_viewer.height() * 0.4)]) # Initial sizes\n"
          ]
        }
      ],
      "source": [
        "# Launch the BioImageSuiteLite GUI\n",
        "print(\"Launching BioImageSuiteLite...\")\n",
        "print(\"=\" * 50)\n",
        "print(\"IMPORTANT: A new window will open\")\n",
        "print(\"Do NOT close this notebook while using the GUI\")\n",
        "print(\"=\" * 50)\n",
        "\n",
        "# Start the application\n",
        "gui_manager.main()\n",
        "\n",
        "# Note: The cell will continue running while the GUI is open\n",
        "# This is normal - the GUI runs in its own event loop\n"
      ]
    },
    {
      "cell_type": "raw",
      "metadata": {
        "vscode": {
          "languageId": "raw"
        }
      },
      "source": [
        "### Step 3.2: Load Your Video File\n",
        "\n",
        "Now that the GUI is open, let's load your data:\n",
        "\n",
        "1. **Click \"Load Video\"** button in the File Operations section\n",
        "2. **Navigate to your .avi file** and select it\n",
        "3. The video will be loaded and automatically converted to greyscale\n",
        "\n",
        "**What happens during loading:**\n",
        "- The software reads all frames from the video\n",
        "- Converts RGB to greyscale using standard luminance weights\n",
        "- Extracts metadata (frame rate, dimensions, duration)\n",
        "- Displays the first frame in the viewer\n",
        "\n",
        "**Tips:**\n",
        "- Supported format: `.avi` files only\n",
        "- Large files may take a moment to load\n",
        "- The status will show frame count, FPS, and dimensions\n",
        "\n",
        "![Load Video Button Location](path/to/screenshot1.png)\n",
        "*Screenshot: Location of the Load Video button*\n",
        "\n",
        "**After loading, you should see:**\n",
        "- Your video displayed in the main viewer\n",
        "- Frame slider at the bottom to navigate through time\n",
        "- File information displayed in the control panel\n"
      ]
    },
    {
      "cell_type": "raw",
      "metadata": {
        "vscode": {
          "languageId": "raw"
        }
      },
      "source": [
        "### Step 3.3: Set Pixel Size (Important!)\n",
        "\n",
        "Before analysis, you must set the correct pixel size for your microscope:\n",
        "\n",
        "1. **Locate \"Pixel Size (µm/pixel)\"** in the Preprocessing section\n",
        "2. **Enter your microscope's pixel size** (default is 1.0 µm/pixel)\n",
        "3. **Click \"Update\"**\n",
        "\n",
        "**Why this matters:**\n",
        "- Event rates are normalized by area (events/second/µm²)\n",
        "- Incorrect pixel size will give wrong absolute rates\n",
        "- This value depends on your microscope objective and camera\n",
        "\n",
        "**How to find your pixel size:**\n",
        "- Check your microscope's specifications\n",
        "- Calculate from known object dimensions\n",
        "- Common values: 0.1-2.0 µm/pixel for high-mag objectives\n",
        "\n",
        "![Pixel Size Setting](path/to/screenshot2.png)\n",
        "*Screenshot: Setting the pixel size*\n"
      ]
    },
    {
      "cell_type": "raw",
      "metadata": {
        "vscode": {
          "languageId": "raw"
        }
      },
      "source": [
        "## 4. ROI Definition and Management <a id=\"roi-management\"></a>\n",
        "\n",
        "Regions of Interest (ROIs) define where to analyze events. You can draw multiple ROIs to compare different cells or regions.\n",
        "\n",
        "### Step 4.1: Activate ROI Drawing Mode\n",
        "\n",
        "1. **Click \"Activate ROI Drawing\"** button\n",
        "2. The button text changes to \"Finish ROI Drawing\"\n",
        "3. Your cursor becomes a drawing tool\n",
        "\n",
        "### Step 4.2: Draw ROIs\n",
        "\n",
        "1. **Click points around your cell/region** to create a polygon\n",
        "2. **Double-click to close** the polygon\n",
        "3. The ROI will appear with a red outline\n",
        "4. **Repeat** for additional ROIs\n",
        "\n",
        "**Best practices for ROI drawing:**\n",
        "- Draw tightly around individual cells\n",
        "- Avoid overlapping ROIs\n",
        "- Include the entire cell body\n",
        "- Exclude background regions\n",
        "- For neurons: include soma and proximal dendrites\n",
        "\n",
        "![ROI Drawing Example](path/to/screenshot3.png)\n",
        "*Screenshot: Drawing ROIs around cells*\n",
        "\n",
        "### Step 4.3: Manage ROIs\n",
        "\n",
        "**ROI Information displayed:**\n",
        "- ROI ID number\n",
        "- Area in pixels and µm²\n",
        "- Automatically calculated after drawing\n",
        "\n",
        "**ROI Management options:**\n",
        "- **Clear All ROIs**: Remove all ROIs and start over\n",
        "- **Select ROI**: Click on an ROI to select it\n",
        "- Selected ROIs are used for parameter estimation\n"
      ]
    },
    {
      "cell_type": "raw",
      "metadata": {
        "vscode": {
          "languageId": "raw"
        }
      },
      "source": [
        "## 5. Parameter Optimization <a id=\"parameter-optimization\"></a>\n",
        "\n",
        "Proper parameter selection is crucial for accurate event detection. BioImageSuiteLite offers both automatic and manual parameter optimization.\n",
        "\n",
        "### Step 5.1: Understanding Detection Parameters\n",
        "\n",
        "#### Threshold Detection Parameters:\n",
        "- **Enable Threshold Detection**: Check to use this method\n",
        "- **Threshold Value**: Intensity level that triggers an event\n",
        "- **Use Otsu**: Automatically calculate optimal threshold\n",
        "\n",
        "#### DoG (Difference of Gaussians) Parameters:\n",
        "- **Enable DoG Detection**: Check to use this method\n",
        "- **Sigma 1**: Smaller gaussian kernel (typically 1-5)\n",
        "- **Sigma 2**: Larger gaussian kernel (typically 2-10)\n",
        "- **Min Prominence**: Minimum peak height (0 = auto)\n",
        "\n",
        "#### General Parameters:\n",
        "- **Min Event Separation**: Minimum time between events (seconds)\n",
        "  - Prevents double-counting of the same event\n",
        "  - Typical values: 0.1-1.0 seconds\n",
        "\n",
        "### Step 5.2: Automatic Parameter Estimation\n",
        "\n",
        "BioImageSuiteLite can estimate optimal DoG parameters from your data:\n",
        "\n",
        "1. **Select one or more ROIs** by clicking on them\n",
        "2. **Click \"Auto-set Params from ROI\"**\n",
        "3. Parameters will be calculated based on the intensity profile\n",
        "\n",
        "**How it works:**\n",
        "- Analyzes intensity fluctuations in selected ROIs\n",
        "- Estimates optimal sigma values based on event characteristics\n",
        "- Sets prominence based on noise level\n",
        "\n",
        "![Auto Parameter Setting](path/to/screenshot4.png)\n",
        "*Screenshot: Auto-setting parameters from ROI*\n"
      ]
    },
    {
      "cell_type": "raw",
      "metadata": {
        "vscode": {
          "languageId": "raw"
        }
      },
      "source": [
        "### Step 5.3: Manual Parameter Tuning Guide\n",
        "\n",
        "If automatic estimation doesn't work well, here's how to manually optimize:\n",
        "\n",
        "#### For Threshold Detection:\n",
        "1. **Start with Otsu** (check \"Use Otsu\")\n",
        "2. Run analysis and check results\n",
        "3. If too many false positives: increase threshold\n",
        "4. If missing events: decrease threshold\n",
        "\n",
        "#### For DoG Detection:\n",
        "1. **Sigma 1**: Set to approximate radius of your events (in pixels)\n",
        "2. **Sigma 2**: Set to 1.5-2x Sigma 1\n",
        "3. **Min Prominence**: Start at 0 (auto), increase if too many false detections\n",
        "\n",
        "#### Parameter Tuning Strategy:\n",
        "1. **Enable only one method at a time** initially\n",
        "2. **Test on a single ROI** first\n",
        "3. **Adjust parameters** based on results\n",
        "4. **Apply to all ROIs** once optimized\n",
        "\n",
        "**Common parameter sets by application:**\n",
        "- **Calcium transients**: Sigma1=2-4, Sigma2=4-8, Prominence=10-50\n",
        "- **Vesicle fusion**: Sigma1=1-2, Sigma2=2-4, Prominence=5-20\n",
        "- **Large events**: Sigma1=5-10, Sigma2=10-20, Prominence=20-100\n"
      ]
    },
    {
      "cell_type": "raw",
      "metadata": {
        "vscode": {
          "languageId": "raw"
        }
      },
      "source": [
        "## 6. Running Analysis <a id=\"running-analysis\"></a>\n",
        "\n",
        "Once parameters are set, you're ready to analyze your data.\n",
        "\n",
        "### Step 6.1: Run Full Analysis\n",
        "\n",
        "1. **Ensure at least one detection method is enabled**\n",
        "2. **Click \"Run Full Analysis\"** button\n",
        "3. **Wait for processing** (progress shown in log)\n",
        "\n",
        "**What happens during analysis:**\n",
        "1. For each ROI:\n",
        "   - Extract mean intensity trace\n",
        "   - Apply enabled detection methods\n",
        "   - Filter duplicate events\n",
        "   - Calculate normalized rates\n",
        "2. Results appear in the table\n",
        "3. Summary statistics are calculated\n",
        "\n",
        "![Run Analysis Button](path/to/screenshot5.png)\n",
        "*Screenshot: Running the analysis*\n",
        "\n",
        "### Step 6.2: Monitor Progress\n",
        "\n",
        "Watch the log window for:\n",
        "- Processing status for each ROI\n",
        "- Number of events detected\n",
        "- Any warnings or errors\n",
        "- Completion message\n",
        "\n",
        "**Typical processing time:**\n",
        "- Small dataset (100 frames): < 1 second\n",
        "- Medium dataset (1000 frames): 2-5 seconds\n",
        "- Large dataset (10000 frames): 10-30 seconds\n"
      ]
    },
    {
      "cell_type": "raw",
      "metadata": {
        "vscode": {
          "languageId": "raw"
        }
      },
      "source": [
        "## 7. Understanding Results <a id=\"understanding-results\"></a>\n",
        "\n",
        "### Step 7.1: Results Table\n",
        "\n",
        "The results table shows detailed information for each detected event:\n",
        "\n",
        "| Column | Description |\n",
        "|--------|-------------|\n",
        "| **ROI ID** | Which ROI the event occurred in |\n",
        "| **Type** | Detection method (threshold, dog, scisson) |\n",
        "| **Start (s)** | When the event began |\n",
        "| **End (s)** | When the event ended |\n",
        "| **Duration (s)** | How long the event lasted |\n",
        "| **Events/s/µm²** | Normalized event rate |\n",
        "| **Details** | Method-specific parameters |\n",
        "\n",
        "### Step 7.2: Interpreting Event Rates\n",
        "\n",
        "**Events/s/µm²** is the key metric:\n",
        "- Normalized by ROI area and observation time\n",
        "- Allows comparison between different sized ROIs\n",
        "- Standard unit for reporting in publications\n",
        "\n",
        "**Example interpretation:**\n",
        "- Rate = 6.373e-03 events/s/µm²\n",
        "- Means ~6.4 events per 1000 seconds per µm²\n",
        "- Or ~0.38 events per minute per µm²\n",
        "\n",
        "### Step 7.3: Summary Plot\n",
        "\n",
        "Click **\"Show Summary Plot\"** to visualize:\n",
        "- Event rates for each ROI\n",
        "- Error bars showing standard error\n",
        "- Comparison across all analyzed ROIs\n",
        "\n",
        "![Summary Plot Example](path/to/screenshot6.png)\n",
        "*Screenshot: Summary plot showing event rates*\n"
      ]
    },
    {
      "cell_type": "raw",
      "metadata": {
        "vscode": {
          "languageId": "raw"
        }
      },
      "source": [
        "## 8. Exporting and Post-Processing <a id=\"exporting\"></a>\n",
        "\n",
        "### Step 8.1: Export Results to CSV\n",
        "\n",
        "1. **Click \"Export Results to CSV\"**\n",
        "2. Choose save location\n",
        "3. File will contain:\n",
        "   - Header with analysis timestamp\n",
        "   - All event details\n",
        "   - Can be opened in Excel/spreadsheet software\n",
        "\n",
        "**CSV Format:**\n",
        "```\n",
        "Analysis Run At: 2025-01-15 11:53:51\n",
        "ROI ID,Type,Start (s),End (s),Duration (s),Events/s/µm²,Details\n",
        "1,threshold,10.5,11.2,0.7,5.2e-03,threshold_value:128\n",
        "...\n",
        "```\n",
        "\n",
        "### Step 8.2: Save Processed Images\n",
        "\n",
        "To save your greyscale video as multi-page TIFF:\n",
        "1. **Click \"Save Multi-Page TIFF\"**\n",
        "2. Choose save location\n",
        "3. Creates a TIFF stack with all frames\n",
        "\n",
        "**Uses for saved TIFF:**\n",
        "- Archive processed data\n",
        "- Share with collaborators\n",
        "- Further analysis in ImageJ/Fiji\n",
        "- Create figures for publication\n"
      ]
    },
    {
      "cell_type": "code",
      "execution_count": 6,
      "metadata": {},
      "outputs": [
        {
          "name": "stdout",
          "output_type": "stream",
          "text": [
            "Events by Detection Type:\n",
            "Type\n",
            "threshold    5\n",
            "dog          4\n",
            "Name: count, dtype: int64\n",
            "\n",
            "Mean Duration by Type:\n",
            "Type\n",
            "dog          0.675\n",
            "threshold    1.060\n",
            "Name: Duration (s), dtype: float64\n"
          ]
        },
        {
          "data": {
            "image/png": "[encoded data removed]",
            "text/plain": [
              "<Figure size 1000x400 with 1 Axes>"
            ]
          },
          "metadata": {},
          "output_type": "display_data"
        }
      ],
      "source": [
        "# Example: Post-processing exported CSV data\n",
        "# This code demonstrates how to load and analyze your exported results\n",
        "\n",
        "import pandas as pd\n",
        "import matplotlib.pyplot as plt\n",
        "\n",
        "# Example of loading exported CSV (replace with your file path)\n",
        "# df = pd.read_csv('your_results.csv', skiprows=1)\n",
        "\n",
        "# Create sample data for demonstration\n",
        "sample_data = {\n",
        "    'ROI ID': [1, 1, 1, 2, 2, 2, 2, 3, 3],\n",
        "    'Type': ['threshold', 'threshold', 'dog', 'threshold', 'threshold', 'dog', 'dog', 'threshold', 'dog'],\n",
        "    'Start (s)': [10.5, 25.3, 30.1, 5.2, 15.7, 22.4, 35.6, 12.3, 28.9],\n",
        "    'Duration (s)': [0.7, 1.2, 0.5, 0.8, 1.5, 0.6, 0.9, 1.1, 0.7],\n",
        "    'Events/s/µm²': [5.2e-03, 5.2e-03, 5.2e-03, 3.8e-03, 3.8e-03, 3.8e-03, 3.8e-03, 6.1e-03, 6.1e-03]\n",
        "}\n",
        "\n",
        "df = pd.DataFrame(sample_data)\n",
        "\n",
        "# Analyze by detection type\n",
        "print(\"Events by Detection Type:\")\n",
        "print(df['Type'].value_counts())\n",
        "print(\"\\nMean Duration by Type:\")\n",
        "print(df.groupby('Type')['Duration (s)'].mean())\n",
        "\n",
        "# Plot event timeline\n",
        "fig, ax = plt.subplots(figsize=(10, 4))\n",
        "for roi_id in df['ROI ID'].unique():\n",
        "    roi_data = df[df['ROI ID'] == roi_id]\n",
        "    y_pos = roi_id\n",
        "    for _, event in roi_data.iterrows():\n",
        "        color = 'blue' if event['Type'] == 'threshold' else 'red'\n",
        "        ax.barh(y_pos, event['Duration (s)'], left=event['Start (s)'], \n",
        "                height=0.5, color=color, alpha=0.7)\n",
        "\n",
        "ax.set_xlabel('Time (s)')\n",
        "ax.set_ylabel('ROI ID')\n",
        "ax.set_title('Event Timeline by ROI')\n",
        "ax.legend(['Threshold', 'DoG'])\n",
        "plt.tight_layout()\n",
        "plt.show()\n"
      ]
    },
    {
      "cell_type": "raw",
      "metadata": {
        "vscode": {
          "languageId": "raw"
        }
      },
      "source": [
        "## 9. Troubleshooting <a id=\"troubleshooting\"></a>\n",
        "\n",
        "### Common Issues and Solutions\n",
        "\n",
        "#### No events detected:\n",
        "- **Check threshold**: May be too high\n",
        "- **Verify ROI placement**: Ensure ROI covers active regions\n",
        "- **Increase recording time**: Short recordings may miss events\n",
        "- **Check data quality**: Low SNR may prevent detection\n",
        "\n",
        "#### Too many false positives:\n",
        "- **Increase Min Event Separation**: Filter rapid fluctuations\n",
        "- **Increase threshold or prominence**: Be more selective\n",
        "- **Check for motion artifacts**: Stabilize video if needed\n",
        "- **Reduce detection sensitivity**: Use only one method\n",
        "\n",
        "#### Different results between methods:\n",
        "- **This is normal**: Methods detect different features\n",
        "- **Threshold**: Detects intensity crossings\n",
        "- **DoG**: Detects blob-like features\n",
        "- **Use both**: For comprehensive analysis\n",
        "\n",
        "#### Analysis crashes or hangs:\n",
        "- **Check memory usage**: Large videos need more RAM\n",
        "- **Reduce number of ROIs**: Process in batches\n",
        "- **Update software**: Check for latest version\n",
        "- **Check video format**: Ensure proper AVI encoding\n",
        "\n",
        "### Error Messages\n",
        "\n",
        "**\"FPS is zero or invalid\"**\n",
        "- Video metadata is corrupted\n",
        "- Manually set FPS in future versions\n",
        "\n",
        "**\"ROI has zero area\"**\n",
        "- ROI is too small or improperly drawn\n",
        "- Redraw ROI with larger area\n",
        "\n",
        "**\"Could not get intensity trace\"**\n",
        "- ROI may be outside image bounds\n",
        "- Check ROI placement\n"
      ]
    },
    {
      "cell_type": "raw",
      "metadata": {
        "vscode": {
          "languageId": "raw"
        }
      },
      "source": [
        "## 10. Advanced Tips <a id=\"advanced-tips\"></a>\n",
        "\n",
        "### Batch Processing Multiple Files\n",
        "\n",
        "While the GUI processes one file at a time, you can script batch processing:\n"
      ]
    },
    {
      "cell_type": "code",
      "execution_count": 7,
      "metadata": {},
      "outputs": [],
      "source": [
        "# Example: Batch processing workflow (conceptual)\n",
        "# Note: This requires programmatic access to the analysis functions\n",
        "\n",
        "import os\n",
        "from pathlib import Path\n",
        "\n",
        "# Define batch processing function\n",
        "def batch_process_videos(video_folder, output_folder, params):\n",
        "    \"\"\"\n",
        "    Process multiple videos with the same parameters\n",
        "    \n",
        "    Args:\n",
        "        video_folder: Path to folder containing .avi files\n",
        "        output_folder: Where to save results\n",
        "        params: Dictionary of analysis parameters\n",
        "    \"\"\"\n",
        "    video_files = list(Path(video_folder).glob(\"*.avi\"))\n",
        "    \n",
        "    results_summary = []\n",
        "    \n",
        "    for video_file in video_files:\n",
        "        print(f\"Processing: {video_file.name}\")\n",
        "        \n",
        "        # Pseudocode for processing steps:\n",
        "        # 1. Load video\n",
        "        # frames, metadata = io_operations.load_avi(str(video_file))\n",
        "        \n",
        "        # 2. Convert to greyscale\n",
        "        # grey_stack = io_operations.convert_to_greyscale_stack(frames)\n",
        "        \n",
        "        # 3. Define ROIs (could load from file or use automatic detection)\n",
        "        # roi_manager = roi_handler.ROIManager(grey_stack.shape)\n",
        "        \n",
        "        # 4. Run analysis with specified parameters\n",
        "        # results = run_analysis(grey_stack, roi_manager, params)\n",
        "        \n",
        "        # 5. Save results\n",
        "        # output_path = output_folder / f\"{video_file.stem}_results.csv\"\n",
        "        # save_results(results, output_path)\n",
        "        \n",
        "        # results_summary.append({\n",
        "        #     'file': video_file.name,\n",
        "        #     'n_events': len(results),\n",
        "        #     'mean_rate': calculate_mean_rate(results)\n",
        "        # })\n",
        "    \n",
        "    return results_summary\n",
        "\n",
        "# Example parameters for batch processing\n",
        "batch_params = {\n",
        "    'threshold_enabled': True,\n",
        "    'threshold_value': 128,\n",
        "    'use_otsu': False,\n",
        "    'dog_enabled': True,\n",
        "    'dog_sigma1': 2.0,\n",
        "    'dog_sigma2': 4.0,\n",
        "    'dog_prominence': 10.0,\n",
        "    'min_event_separation': 0.5\n",
        "}\n",
        "\n",
        "# Example usage (uncomment to run):\n",
        "# results = batch_process_videos(\"./videos\", \"./results\", batch_params)\n"
      ]
    },
    {
      "cell_type": "raw",
      "metadata": {
        "vscode": {
          "languageId": "raw"
        }
      },
      "source": [
        "### Performance Optimization\n",
        "\n",
        "For large datasets or many ROIs:\n",
        "\n",
        "1. **Process in chunks**: Analyze subsets of ROIs\n",
        "2. **Reduce frame rate**: Downsample if events are slow\n",
        "3. **Use appropriate parameters**: Avoid overly sensitive detection\n",
        "4. **Close other applications**: Free up system memory\n",
        "\n",
        "### Integration with Other Tools\n",
        "\n",
        "BioImageSuiteLite results can be used with:\n",
        "- **ImageJ/Fiji**: Import TIFF stacks for further analysis\n",
        "- **Python**: Load CSV results for custom analysis\n",
        "- **R**: Statistical analysis of event rates\n",
        "- **GraphPad Prism**: Publication-quality plots\n",
        "\n",
        "### Publishing Your Results\n",
        "\n",
        "When reporting BioImageSuiteLite results:\n",
        "1. **Cite the software** (see README for citation)\n",
        "2. **Report all parameters** used for analysis\n",
        "3. **Include pixel size** and imaging conditions\n",
        "4. **Show representative traces** and ROIs\n",
        "5. **Report as**: events/s/µm² ± SEM\n",
        "\n",
        "### Future Features\n",
        "\n",
        "Planned enhancements include:\n",
        "- Support for more file formats (.tif, .nd2)\n",
        "- Automatic ROI detection\n",
        "- Machine learning-based event detection\n",
        "- Real-time analysis during acquisition\n",
        "- 3D ROI support for volumetric data\n",
        "\n",
        "---\n",
        "\n",
        "## Conclusion\n",
        "\n",
        "This guide covered the complete workflow for analyzing cellular events with BioImageSuiteLite. For specific questions or feature requests, please visit our [GitHub repository](https://github.com/raju1stnov/BioImageSuiteLite).\n",
        "\n",
        "Happy analyzing!\n"
      ]
    }
  ],
  "metadata": {
    "kernelspec": {
      "display_name": "bio_venv",
      "language": "python",
      "name": "python3"
    },
    "language_info": {
      "codemirror_mode": {
        "name": "ipython",
        "version": 3
      },
      "file_extension": ".py",
      "mimetype": "text/x-python",
      "name": "python",
      "nbconvert_exporter": "python",
      "pygments_lexer": "ipython3",
      "version": "3.11.1"
    }
  },
  "nbformat": 4,
  "nbformat_minor": 2
}
