{
  "cells": [
    {
      "cell_type": "markdown",
      "metadata": {
        "vscode": {
          "languageId": "raw"
        }
      },
      "source": [
        "# BioImageSuiteLite: Comprehensive Analysis Guide\n",
        "\n",
        "## Table of Contents\n",
        "1. [Introduction](#introduction)\n",
        "2. [Installation and Setup](#installation)\n",
        "3. [Loading and Visualizing Data](#loading-data)\n",
        "4. [ROI Definition and Management](#roi-management)\n",
        "5. [Parameter Optimization](#parameter-optimization)\n",
        "6. [Running Analysis](#running-analysis)\n",
        "7. [Understanding Results](#understanding-results)\n",
        "8. [Exporting and Post-Processing](#exporting)\n",
        "9. [Troubleshooting](#troubleshooting)\n",
        "10. [Advanced Tips](#advanced-tips)\n",
        "\n",
        "---\n",
        "\n",
        "## 1. Introduction <a id=\"introduction\"></a>\n",
        "\n",
        "BioImageSuiteLite is designed for detecting and analyzing transient cellular events in time-lapse microscopy data. This notebook provides a comprehensive guide to using all features of the software.\n",
        "\n",
        "### What types of events can be detected?\n",
        "- **Calcium transients** in neurons or other excitable cells\n",
        "- **Vesicle fusion events** at the cell membrane\n",
        "- **Fluorescence fluctuations** from reporter proteins\n",
        "- Any **transient intensity changes** in time-lapse imaging\n",
        "\n",
        "### Detection Methods Available:\n",
        "1. **Threshold-based detection**: Finds events when intensity crosses a threshold\n",
        "2. **Difference of Gaussians (DoG)**: Detects blob-like features and intensity peaks\n",
        "3. **Scisson-like analysis**: For step-like changes (currently in development)\n"
      ]
    },
    {
      "cell_type": "markdown",
      "metadata": {
        "vscode": {
          "languageId": "raw"
        }
      },
      "source": [
        "## 2. Installation and Setup <a id=\"installation\"></a>\n",
        "\n",
        "Before starting, ensure you have BioImageSuiteLite installed. If you're running this notebook from the repository, we'll set up the environment.\n"
      ]
    },
    {
      "cell_type": "code",
      "execution_count": 1,
      "metadata": {},
      "outputs": [
        {
          "name": "stdout",
          "output_type": "stream",
          "text": [
            "✓ Added parent directory to Python path\n",
            "2025-06-16 11:23:08 [INFO] BioImageSuiteLite: Logging initialized.\n",
            "✓ Successfully imported BioImageSuiteLite modules\n",
            "✓ Matplotlib configured for inline plotting\n"
          ]
        }
      ],
      "source": [
        "# Setup the environment\n",
        "import sys\n",
        "import os\n",
        "import numpy as np\n",
        "import matplotlib.pyplot as plt\n",
        "from datetime import datetime\n",
        "\n",
        "# Add parent directory to path if running from repo\n",
        "if os.path.exists('../BioImageSuiteLite'):\n",
        "    sys.path.insert(0, os.path.abspath('..'))\n",
        "    print(\"✓ Added parent directory to Python path\")\n",
        "else:\n",
        "    print(\"✓ Using installed BioImageSuiteLite package\")\n",
        "\n",
        "# Import BioImageSuiteLite modules\n",
        "try:\n",
        "    from BioImageSuiteLite import gui_manager, io_operations, analysis_processor, roi_handler\n",
        "    print(\"✓ Successfully imported BioImageSuiteLite modules\")\n",
        "except ImportError as e:\n",
        "    print(\"✗ Error importing modules:\", e)\n",
        "    print(\"Please ensure BioImageSuiteLite is properly installed\")\n",
        "\n",
        "# Set up matplotlib for inline plotting\n",
        "%matplotlib inline\n",
        "plt.style.use('seaborn-v0_8-darkgrid')\n",
        "print(\"✓ Matplotlib configured for inline plotting\")\n"
      ]
    },
    {
      "cell_type": "markdown",
      "metadata": {
        "vscode": {
          "languageId": "raw"
        }
      },
      "source": [
        "## 3. Loading and Visualizing Data <a id=\"loading-data\"></a>\n",
        "\n",
        "BioImageSuiteLite supports both `.avi` video files and multi-page `.tif`/`.tiff` files. The software automatically converts color videos to greyscale for analysis.\n",
        "\n",
        "### Step 3.1: Launch the GUI\n",
        "\n",
        "First, let's launch the BioImageSuiteLite interface. A new window will open with the analysis tools.\n",
        "\n",
        "**What to expect:**\n",
        "- A Napari viewer window will open showing your data\n",
        "- Control panels on the right side for analysis parameters\n",
        "- Results table and log at the bottom\n",
        "\n",
        "**Action required:** Run the cell below and wait for the GUI to open.\n"
      ]
    },
    {
      "cell_type": "code",
      "execution_count": 2,
      "metadata": {},
      "outputs": [
        {
          "name": "stdout",
          "output_type": "stream",
          "text": [
            "Launching BioImageSuiteLite...\n",
            "==================================================\n",
            "IMPORTANT: A new window will open\n",
            "Do NOT close this notebook while using the GUI\n",
            "==================================================\n",
            "2025-06-16 11:23:08 [INFO] BioImageSuiteLite: Logging initialized.\n",
            "INFO: Pixel size set to 0.160 µm/pixel.\n"
          ]
        }
      ],
      "source": [
        "# Launch the BioImageSuiteLite GUI\n",
        "import warnings\n",
        "import logging\n",
        "\n",
        "# Suppress the FutureWarning about qt_viewer\n",
        "warnings.filterwarnings('ignore', category=FutureWarning, module='BioImageSuiteLite.gui_manager')\n",
        "\n",
        "# Configure logging to avoid showing full paths\n",
        "logging.getLogger('BioImageSuiteLite').handlers = []\n",
        "\n",
        "print(\"Launching BioImageSuiteLite...\")\n",
        "print(\"=\" * 50)\n",
        "print(\"IMPORTANT: A new window will open\")\n",
        "print(\"Do NOT close this notebook while using the GUI\")\n",
        "print(\"=\" * 50)\n",
        "\n",
        "# Start the application\n",
        "gui_manager.main()\n",
        "\n",
        "# Note: The cell will continue running while the GUI is open\n",
        "# This is normal - the GUI runs in its own event loop\n"
      ]
    },
    {
      "cell_type": "markdown",
      "metadata": {
        "vscode": {
          "languageId": "raw"
        }
      },
      "source": [
        "### Step 3.2: Load Your Video File\n",
        "\n",
        "Now that the GUI is open, let's load your data:\n",
        "\n",
        "1. **Click \"Load File\"** button in the File Operations section\n",
        "2. **Navigate to your video file** (.avi or .tif/.tiff) and select it\n",
        "3. The video will be loaded and automatically converted to greyscale if needed\n",
        "\n",
        "**What happens during loading:**\n",
        "- The software reads all frames from the video\n",
        "- For AVI files: Extracts frames and metadata (FPS, dimensions)\n",
        "- For TIFF files: Reads all pages and attempts to extract FPS from metadata\n",
        "- Converts RGB to greyscale using standard luminance weights\n",
        "- Displays the first frame in the viewer\n",
        "\n",
        "**Tips:**\n",
        "- Supported formats: `.avi`, `.tif`, and `.tiff` files\n",
        "- Large files may take a moment to load\n",
        "- The status will show frame count, FPS, and dimensions\n",
        "- For TIFF files without FPS metadata, a default of 30 FPS is used\n",
        "\n",
        "![Load File Button Location](data:image/png;base64,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)\n",
        "\n",
        "**After loading, you should see:**\n",
        "- Your video displayed in the main viewer\n",
        "- Frame slider at the bottom to navigate through time\n",
        "- File information displayed in the control panel\n"
      ]
    },
    {
      "cell_type": "markdown",
      "metadata": {
        "vscode": {
          "languageId": "raw"
        }
      },
      "source": [
        "### Step 3.3: Set Pixel Size (Important!)\n",
        "\n",
        "Before analysis, you must set the correct pixel size for your microscope:\n",
        "\n",
        "1. **Locate \"Pixel Size (µm/pixel)\"** in the Preprocessing section\n",
        "2. **Enter your microscope's pixel size** (default is 0.16 µm/pixel)\n",
        "3. The value updates automatically when you change it\n",
        "\n",
        "**Why this matters:**\n",
        "- Event rates are normalized by area (events/second/µm²)\n",
        "- Incorrect pixel size will give wrong absolute rates\n",
        "- This value depends on your microscope objective and camera\n",
        "\n",
        "**How to find your pixel size:**\n",
        "- Check your microscope's specifications\n",
        "- Calculate from known object dimensions\n",
        "- Common values: \n",
        "  - 100x objective: 0.065-0.13 µm/pixel\n",
        "  - 60x objective: 0.11-0.22 µm/pixel\n",
        "  - 40x objective: 0.16-0.33 µm/pixel\n",
        "  - 20x objective: 0.32-0.65 µm/pixel\n",
        "\n",
        "![Pixel Size Setting](data:image/png;base64,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)\n",
        "\n"
      ]
    },
    {
      "cell_type": "markdown",
      "metadata": {
        "vscode": {
          "languageId": "raw"
        }
      },
      "source": [
        "## 4. ROI Definition and Management <a id=\"roi-management\"></a>\n",
        "\n",
        "Regions of Interest (ROIs) define where to analyze events. You can draw multiple ROIs to compare different cells or regions.\n",
        "\n",
        "### Step 4.1: Activate ROI Drawing Mode\n",
        "\n",
        "1. **Click \"Activate ROI Drawing\"** button\n",
        "2. The button text changes to \"Finish ROI Drawing\"\n",
        "3. Your cursor becomes a drawing tool\n",
        "\n",
        "### Step 4.2: Draw ROIs\n",
        "\n",
        "1. **Click points around your cell/region** to create a polygon\n",
        "2. **Double-click to close** the polygon\n",
        "3. The ROI will appear with a red outline\n",
        "4. **Repeat** for additional ROIs\n",
        "\n",
        "**Best practices for ROI drawing:**\n",
        "- Draw tightly around individual cells\n",
        "- Avoid overlapping ROIs\n",
        "- Include the entire cell body\n",
        "- Exclude background regions\n",
        "- For neurons: include soma and proximal dendrites\n",
        "\n",
        "![ROI Drawing Example](images/roi_drawing.png)\n",
        "\n",
        "### Step 4.3: Manage ROIs\n",
        "\n",
        "**ROI Information displayed:**\n",
        "- ROI ID number\n",
        "- Area in pixels and µm²\n",
        "- Automatically calculated after drawing\n",
        "\n",
        "**ROI Management options:**\n",
        "- **Clear All ROIs**: Remove all ROIs and start over\n",
        "- **Select ROI**: Click on an ROI to select it\n",
        "- Selected ROIs are used for parameter estimation\n",
        "\n",
        "### Step 4.4: Finish ROI Drawing\n",
        "\n",
        "When done drawing ROIs:\n",
        "1. **Click \"Finish ROI Drawing\"** to exit drawing mode\n",
        "2. The viewer returns to pan/zoom mode\n",
        "3. You can now select and modify existing ROIs\n"
      ]
    },
    {
      "cell_type": "markdown",
      "metadata": {
        "vscode": {
          "languageId": "raw"
        }
      },
      "source": [
        "## 5. Parameter Optimization <a id=\"parameter-optimization\"></a>\n",
        "\n",
        "Proper parameter selection is crucial for accurate event detection. BioImageSuiteLite offers both automatic and manual parameter optimization.\n",
        "\n",
        "### Step 5.1: Understanding Detection Parameters\n",
        "\n",
        "#### Threshold Detection Parameters:\n",
        "- **Enable Threshold Detection**: Check to use this method\n",
        "- **Threshold Value**: Intensity level that triggers an event\n",
        "- **Use Otsu**: Automatically calculate optimal threshold\n",
        "\n",
        "#### DoG (Difference of Gaussians) Parameters:\n",
        "- **Enable DoG Detection**: Check to use this method\n",
        "- **Sigma 1**: Smaller gaussian kernel (typically 1-5)\n",
        "- **Sigma 2**: Larger gaussian kernel (typically 2-10)\n",
        "- **Min Prominence**: Minimum peak height (0 = auto)\n",
        "\n",
        "#### General Parameters:\n",
        "- **Min Event Separation**: Minimum time between events (seconds)\n",
        "  - Prevents double-counting of the same event\n",
        "  - Typical values: 0.1-1.0 seconds\n",
        "\n",
        "### Step 5.2: Automatic Parameter Estimation\n",
        "\n",
        "BioImageSuiteLite can estimate optimal DoG parameters from your data:\n",
        "\n",
        "1. **Select one or more ROIs** by clicking on them\n",
        "2. **Click \"Auto-set Params from ROI\"**\n",
        "3. Parameters will be calculated based on the intensity profile\n",
        "\n",
        "**How it works:**\n",
        "- Analyzes intensity fluctuations in selected ROIs\n",
        "- If multiple ROIs selected: averages their traces for global parameters\n",
        "- Estimates optimal sigma values based on event characteristics\n",
        "- Sets prominence based on noise level\n",
        "\n",
        "![Auto Parameter Setting](images/auto_params.png)\n"
      ]
    },
    {
      "cell_type": "markdown",
      "metadata": {
        "vscode": {
          "languageId": "raw"
        }
      },
      "source": [
        "### Step 5.3: Manual Parameter Tuning Guide\n",
        "\n",
        "If automatic estimation doesn't work well, here's how to manually optimize:\n",
        "\n",
        "#### For Threshold Detection:\n",
        "1. **Start with Otsu** (check \"Use Otsu\")\n",
        "2. Run analysis and check results\n",
        "3. If too many false positives: increase threshold\n",
        "4. If missing events: decrease threshold\n",
        "\n",
        "#### For DoG Detection:\n",
        "1. **Sigma 1**: Set to approximate radius of your events (in pixels)\n",
        "2. **Sigma 2**: Set to 1.5-2x Sigma 1\n",
        "3. **Min Prominence**: Start at 0 (auto), increase if too many false detections\n",
        "\n",
        "#### Parameter Tuning Strategy:\n",
        "1. **Enable only one method at a time** initially\n",
        "2. **Test on a single ROI** first\n",
        "3. **Adjust parameters** based on results\n",
        "4. **Apply to all ROIs** once optimized\n",
        "\n",
        "**Common parameter sets by application:**\n",
        "- **Calcium transients**: Sigma1=2-4, Sigma2=4-8, Prominence=10-50\n",
        "- **Vesicle fusion**: Sigma1=1-2, Sigma2=2-4, Prominence=5-20\n",
        "- **Large events**: Sigma1=5-10, Sigma2=10-20, Prominence=20-100\n",
        "\n",
        "### Step 5.4: Understanding Event Types in Results\n",
        "\n",
        "When both detection methods are enabled, you may see different event types:\n",
        "- **\"threshold\"**: Events detected by intensity threshold crossing\n",
        "- **\"dog\"**: Events detected by Difference of Gaussians peaks\n",
        "\n",
        "The Min Event Separation parameter helps merge events detected by both methods if they occur close in time.\n"
      ]
    },
    {
      "cell_type": "markdown",
      "metadata": {
        "vscode": {
          "languageId": "raw"
        }
      },
      "source": [
        "## 6. Running Analysis <a id=\"running-analysis\"></a>\n",
        "\n",
        "Once parameters are set, you're ready to analyze your data.\n",
        "\n",
        "### Step 6.1: Run Full Analysis\n",
        "\n",
        "1. **Ensure at least one detection method is enabled**\n",
        "2. **Click \"Run Full Analysis\"** button\n",
        "3. **Wait for processing** (progress shown in log)\n",
        "\n",
        "**What happens during analysis:**\n",
        "1. For each ROI:\n",
        "   - Extract mean intensity trace\n",
        "   - Apply enabled detection methods\n",
        "   - Filter duplicate events\n",
        "   - Calculate normalized rates\n",
        "2. Results appear in the table\n",
        "3. Summary statistics are calculated\n",
        "\n",
        "![Run Analysis Button](images/run_analysis.png)\n",
        "\n",
        "### Step 6.2: Monitor Progress\n",
        "\n",
        "Watch the log window for:\n",
        "- Processing status for each ROI\n",
        "- Number of events detected\n",
        "- Any warnings or errors\n",
        "- Completion message\n",
        "\n",
        "**Typical processing time:**\n",
        "- Small dataset (100 frames): < 1 second\n",
        "- Medium dataset (1000 frames): 2-5 seconds\n",
        "- Large dataset (10000 frames): 10-30 seconds\n",
        "\n",
        "### Step 6.3: Analysis Complete\n",
        "\n",
        "When analysis finishes:\n",
        "- Results table populates with all detected events\n",
        "- Summary statistics are calculated for each ROI\n",
        "- \"Show Summary Plot\" and \"Export Results to CSV\" buttons become enabled\n"
      ]
    },
    {
      "cell_type": "markdown",
      "metadata": {
        "vscode": {
          "languageId": "raw"
        }
      },
      "source": [
        "## 7. Understanding Results <a id=\"understanding-results\"></a>\n",
        "\n",
        "### Step 7.1: Results Table\n",
        "\n",
        "The results table shows detailed information for each detected event:\n",
        "\n",
        "| Column | Description |\n",
        "|--------|-------------|\n",
        "| **ROI ID** | Which ROI the event occurred in |\n",
        "| **Type** | Detection method (threshold, dog, scisson) |\n",
        "| **Start (s)** | When the event began |\n",
        "| **End (s)** | When the event ended |\n",
        "| **Duration (s)** | How long the event lasted |\n",
        "| **Events/s/µm²** | Normalized event rate |\n",
        "| **Details** | Method-specific parameters |\n",
        "\n",
        "### Step 7.2: Interpreting Event Rates\n",
        "\n",
        "**Events/s/µm²** is the key metric:\n",
        "- Normalized by ROI area and observation time\n",
        "- Allows comparison between different sized ROIs\n",
        "- Standard unit for reporting in publications\n",
        "\n",
        "**Example interpretation:**\n",
        "- Rate = 5.250e-02 events/s/µm²\n",
        "- Means ~0.0525 events per second per µm²\n",
        "- Or ~3.15 events per minute per µm²\n",
        "- Or ~52.5 events per 1000 seconds per µm²\n",
        "\n",
        "### Step 7.3: Summary Plot\n",
        "\n",
        "Click **\"Show Summary Plot\"** to visualize:\n",
        "- Event rates for each ROI\n",
        "- Error bars showing standard error\n",
        "- Comparison across all analyzed ROIs\n",
        "\n",
        "![Summary Plot Example](images/summary_plot.png)\n"
      ]
    },
    {
      "cell_type": "markdown",
      "metadata": {
        "vscode": {
          "languageId": "raw"
        }
      },
      "source": [
        "## 8. Exporting and Post-Processing <a id=\"exporting\"></a>\n",
        "\n",
        "### Step 8.1: Export Results to CSV\n",
        "\n",
        "1. **Click \"Export Results to CSV\"**\n",
        "2. Choose save location\n",
        "3. File will contain:\n",
        "   - Header with analysis timestamp\n",
        "   - All event details\n",
        "   - Can be opened in Excel/spreadsheet software\n",
        "\n",
        "**CSV Format:**\n",
        "```\n",
        "Analysis Run At: 2025-01-15 11:53:51\n",
        "ROI ID,Type,Start (s),End (s),Duration (s),Events/s/µm²,Details\n",
        "1,threshold,10.5,11.2,0.7,5.250e-02,threshold_value:128\n",
        "1,dog,15.3,15.8,0.5,5.250e-02,prominence:25.3\n",
        "...\n",
        "```\n",
        "\n",
        "### Step 8.2: Working with Exported Data\n",
        "\n",
        "The CSV file can be used for:\n",
        "- Statistical analysis in R or Python\n",
        "- Creating publication-quality figures\n",
        "- Comparing results across experiments\n",
        "- Archiving analysis results\n"
      ]
    },
    {
      "cell_type": "code",
      "execution_count": 4,
      "metadata": {},
      "outputs": [
        {
          "name": "stdout",
          "output_type": "stream",
          "text": [
            "Events by Detection Type:\n",
            "Type\n",
            "threshold    5\n",
            "dog          4\n",
            "Name: count, dtype: int64\n",
            "\n",
            "Mean Duration by Type:\n",
            "Type\n",
            "dog          0.675\n",
            "threshold    1.060\n",
            "Name: Duration (s), dtype: float64\n"
          ]
        },
        {
          "data": {
            "image/png": "[encoded data removed]",
            "text/plain": [
              "<Figure size 1000x400 with 1 Axes>"
            ]
          },
          "metadata": {},
          "output_type": "display_data"
        }
      ],
      "source": [
        "# Example: Post-processing exported CSV data\n",
        "# This code demonstrates how to load and analyze your exported results\n",
        "\n",
        "import pandas as pd\n",
        "import matplotlib.pyplot as plt\n",
        "\n",
        "# Example of loading exported CSV (replace with your file path)\n",
        "# df = pd.read_csv('your_results.csv', skiprows=1)\n",
        "\n",
        "# Create sample data for demonstration\n",
        "sample_data = {\n",
        "    'ROI ID': [1, 1, 1, 2, 2, 2, 2, 3, 3],\n",
        "    'Type': ['threshold', 'threshold', 'dog', 'threshold', 'threshold', 'dog', 'dog', 'threshold', 'dog'],\n",
        "    'Start (s)': [10.5, 25.3, 30.1, 5.2, 15.7, 22.4, 35.6, 12.3, 28.9],\n",
        "    'Duration (s)': [0.7, 1.2, 0.5, 0.8, 1.5, 0.6, 0.9, 1.1, 0.7],\n",
        "    'Events/s/µm²': [5.2e-03, 5.2e-03, 5.2e-03, 3.8e-03, 3.8e-03, 3.8e-03, 3.8e-03, 6.1e-03, 6.1e-03]\n",
        "}\n",
        "\n",
        "df = pd.DataFrame(sample_data)\n",
        "\n",
        "# Analyze by detection type\n",
        "print(\"Events by Detection Type:\")\n",
        "print(df['Type'].value_counts())\n",
        "print(\"\\nMean Duration by Type:\")\n",
        "print(df.groupby('Type')['Duration (s)'].mean())\n",
        "\n",
        "# Plot event timeline\n",
        "fig, ax = plt.subplots(figsize=(10, 4))\n",
        "\n",
        "# Create handles for legend\n",
        "from matplotlib.patches import Rectangle\n",
        "threshold_patch = Rectangle((0, 0), 1, 1, fc='blue', alpha=0.7)\n",
        "dog_patch = Rectangle((0, 0), 1, 1, fc='red', alpha=0.7)\n",
        "\n",
        "for roi_id in df['ROI ID'].unique():\n",
        "    roi_data = df[df['ROI ID'] == roi_id]\n",
        "    y_pos = roi_id\n",
        "    for _, event in roi_data.iterrows():\n",
        "        color = 'blue' if event['Type'] == 'threshold' else 'red'\n",
        "        ax.barh(y_pos, event['Duration (s)'], left=event['Start (s)'], \n",
        "                height=0.5, color=color, alpha=0.7)\n",
        "\n",
        "ax.set_xlabel('Time (s)')\n",
        "ax.set_ylabel('ROI ID')\n",
        "ax.set_title('Event Timeline by ROI')\n",
        "ax.legend([threshold_patch, dog_patch], ['Threshold', 'DoG'])\n",
        "plt.tight_layout()\n",
        "plt.show()\n"
      ]
    },
    {
      "cell_type": "markdown",
      "metadata": {
        "vscode": {
          "languageId": "raw"
        }
      },
      "source": [
        "## 9. Troubleshooting <a id=\"troubleshooting\"></a>\n",
        "\n",
        "### Common Issues and Solutions\n",
        "\n",
        "#### No events detected:\n",
        "- **Check threshold**: May be too high\n",
        "- **Verify ROI placement**: Ensure ROI covers active regions\n",
        "- **Increase recording time**: Short recordings may miss events\n",
        "- **Check data quality**: Low SNR may prevent detection\n",
        "\n",
        "#### Too many false positives:\n",
        "- **Increase Min Event Separation**: Filter rapid fluctuations\n",
        "- **Increase threshold or prominence**: Be more selective\n",
        "- **Check for motion artifacts**: Stabilize video if needed\n",
        "- **Reduce detection sensitivity**: Use only one method\n",
        "\n",
        "#### Different results between methods:\n",
        "- **This is normal**: Methods detect different features\n",
        "- **Threshold**: Detects intensity crossings\n",
        "- **DoG**: Detects blob-like features\n",
        "- **Use both**: For comprehensive analysis\n",
        "\n",
        "#### Analysis crashes or hangs:\n",
        "- **Check memory usage**: Large videos need more RAM\n",
        "- **Reduce number of ROIs**: Process in batches\n",
        "- **Update software**: Check for latest version\n",
        "- **Check video format**: Ensure proper encoding\n",
        "\n",
        "### Error Messages\n",
        "\n",
        "**\"FPS is zero or invalid\"**\n",
        "- Video metadata is corrupted\n",
        "- For TIFF files: FPS defaults to 30 if not in metadata\n",
        "\n",
        "**\"ROI has zero area\"**\n",
        "- ROI is too small or improperly drawn\n",
        "- Redraw ROI with larger area\n",
        "\n",
        "**\"Could not get intensity trace\"**\n",
        "- ROI may be outside image bounds\n",
        "- Check ROI placement\n"
      ]
    },
    {
      "cell_type": "markdown",
      "metadata": {
        "vscode": {
          "languageId": "raw"
        }
      },
      "source": [
        "## 10. Advanced Tips <a id=\"advanced-tips\"></a>\n",
        "\n",
        "### Batch Processing Multiple Files\n",
        "\n",
        "While the GUI processes one file at a time, you can script batch processing:\n"
      ]
    },
    {
      "cell_type": "code",
      "execution_count": 5,
      "metadata": {},
      "outputs": [],
      "source": [
        "# Example: Batch processing workflow (conceptual)\n",
        "# Note: This requires programmatic access to the analysis functions\n",
        "\n",
        "import os\n",
        "from pathlib import Path\n",
        "\n",
        "# Define batch processing function\n",
        "def batch_process_videos(video_folder, output_folder, params):\n",
        "    \"\"\"\n",
        "    Process multiple videos with the same parameters\n",
        "    \n",
        "    Args:\n",
        "        video_folder: Path to folder containing video files\n",
        "        output_folder: Where to save results\n",
        "        params: Dictionary of analysis parameters\n",
        "    \"\"\"\n",
        "    # Find all video files (both AVI and TIFF)\n",
        "    video_files = list(Path(video_folder).glob(\"*.avi\"))\n",
        "    video_files.extend(list(Path(video_folder).glob(\"*.tif\")))\n",
        "    video_files.extend(list(Path(video_folder).glob(\"*.tiff\")))\n",
        "    \n",
        "    results_summary = []\n",
        "    \n",
        "    for video_file in video_files:\n",
        "        print(f\"Processing: {video_file.name}\")\n",
        "        \n",
        "        # Pseudocode for processing steps:\n",
        "        # 1. Load video\n",
        "        # frames, metadata = io_operations.load_file(str(video_file))\n",
        "        \n",
        "        # 2. Convert to greyscale\n",
        "        # grey_stack = io_operations.convert_to_greyscale_stack(frames)\n",
        "        \n",
        "        # 3. Define ROIs (could load from file or use automatic detection)\n",
        "        # roi_manager = roi_handler.ROIManager(grey_stack.shape)\n",
        "        \n",
        "        # 4. Run analysis with specified parameters\n",
        "        # results = run_analysis(grey_stack, roi_manager, params)\n",
        "        \n",
        "        # 5. Save results\n",
        "        # output_path = output_folder / f\"{video_file.stem}_results.csv\"\n",
        "        # save_results(results, output_path)\n",
        "        \n",
        "        # results_summary.append({\n",
        "        #     'file': video_file.name,\n",
        "        #     'n_events': len(results),\n",
        "        #     'mean_rate': calculate_mean_rate(results)\n",
        "        # })\n",
        "    \n",
        "    return results_summary\n",
        "\n",
        "# Example parameters for batch processing\n",
        "batch_params = {\n",
        "    'threshold_enabled': True,\n",
        "    'threshold_value': 128,\n",
        "    'use_otsu': False,\n",
        "    'dog_enabled': True,\n",
        "    'dog_sigma1': 2.0,\n",
        "    'dog_sigma2': 4.0,\n",
        "    'dog_prominence': 10.0,\n",
        "    'min_event_separation': 0.5\n",
        "}\n",
        "\n",
        "# Example usage (uncomment to run):\n",
        "# results = batch_process_videos(\"./videos\", \"./results\", batch_params)\n"
      ]
    },
    {
      "cell_type": "markdown",
      "metadata": {
        "vscode": {
          "languageId": "raw"
        }
      },
      "source": [
        "### Performance Optimization\n",
        "\n",
        "For large datasets or many ROIs:\n",
        "\n",
        "1. **Process in chunks**: Analyze subsets of ROIs\n",
        "2. **Reduce frame rate**: Downsample if events are slow\n",
        "3. **Use appropriate parameters**: Avoid overly sensitive detection\n",
        "4. **Close other applications**: Free up system memory\n",
        "\n",
        "### Integration with Other Tools\n",
        "\n",
        "BioImageSuiteLite results can be used with:\n",
        "- **ImageJ/Fiji**: Import TIFF stacks for further analysis\n",
        "- **Python**: Load CSV results for custom analysis\n",
        "- **R**: Statistical analysis of event rates\n",
        "- **GraphPad Prism**: Publication-quality plots\n",
        "\n",
        "### Publishing Your Results\n",
        "\n",
        "When reporting BioImageSuiteLite results:\n",
        "1. **Cite the software** (see README for citation)\n",
        "2. **Report all parameters** used for analysis\n",
        "3. **Include pixel size** and imaging conditions\n",
        "4. **Show representative traces** and ROIs\n",
        "5. **Report as**: events/s/µm² ± SEM\n",
        "\n",
        "### Future Features\n",
        "\n",
        "Planned enhancements include:\n",
        "- Support for more file formats (.nd2, .czi)\n",
        "- Automatic ROI detection\n",
        "- Machine learning-based event detection\n",
        "- Real-time analysis during acquisition\n",
        "- 3D ROI support for volumetric data\n",
        "\n",
        "---\n",
        "\n",
        "## Conclusion\n",
        "\n",
        "This guide covered the complete workflow for analyzing cellular events with BioImageSuiteLite. For specific questions or feature requests, please visit our [GitHub repository](https://github.com/raju1stnov/BioImageSuiteLite).\n",
        "\n",
        "Happy analyzing!\n"
      ]
    },
    {
      "cell_type": "code",
      "execution_count": 6,
      "metadata": {},
      "outputs": [
        {
          "name": "stdout",
          "output_type": "stream",
          "text": [
            "c:\\kaushik\\project_work\\BioImageSuiteLite\\examples\n"
          ]
        }
      ],
      "source": [
        "import os\n",
        "print(os.getcwd())"
      ]
    }
  ],
  "metadata": {
    "language_info": {
      "name": "python"
    }
  },
  "nbformat": 4,
  "nbformat_minor": 2
}
