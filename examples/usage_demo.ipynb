{
 "cells": [
  {
   "cell_type": "code",
   "execution_count": null,
   "metadata": {
    "vscode": {
     "languageId": "plaintext"
    }
   },
   "outputs": [],
   "source": [
    "# BioImageSuiteLite: Usage Example\n",
    "\n",
    "This notebook provides a simple, interactive way to launch the BioImageSuiteLite application.\n",
    "\n",
    "## Overview\n",
    "\n",
    "BioImageSuiteLite is an interactive open-source platform for automated detection and analysis of transient events in time-lapse microscopy. This notebook will guide you through:\n",
    "\n",
    "1. Setting up the environment\n",
    "2. Launching the GUI application\n",
    "3. Basic usage instructions\n"
   ]
  },
  {
   "cell_type": "code",
   "execution_count": null,
   "metadata": {
    "vscode": {
     "languageId": "plaintext"
    }
   },
   "outputs": [],
   "source": [
    "## Setup\n",
    "\n",
    "First, let's ensure the package is properly accessible. If you're running this notebook from the repository, we'll add the parent directory to the Python path.\n"
   ]
  },
  {
   "cell_type": "code",
   "execution_count": 1,
   "metadata": {},
   "outputs": [
    {
     "name": "stdout",
     "output_type": "stream",
     "text": [
      "Added parent directory to Python path\n"
     ]
    }
   ],
   "source": [
    "# Setup the environment\n",
    "import sys\n",
    "import os\n",
    "\n",
    "# Add the parent directory to the path if running from the repo\n",
    "if os.path.exists('../BioImageSuiteLite'):\n",
    "    sys.path.insert(0, os.path.abspath('..'))\n",
    "    print(\"Added parent directory to Python path\")\n",
    "else:\n",
    "    print(\"Running with installed package\")\n"
   ]
  },
  {
   "cell_type": "code",
   "execution_count": null,
   "metadata": {},
   "outputs": [],
   "source": [
    "## Launch BioImageSuiteLite\n",
    "\n",
    "Now let's import and launch the application. A new window with the BioImageSuiteLite GUI will open.\n"
   ]
  },
  {
   "cell_type": "code",
   "execution_count": 2,
   "metadata": {},
   "outputs": [
    {
     "name": "stdout",
     "output_type": "stream",
     "text": [
      "2025-06-15 11:15:31 [INFO] BioImageSuiteLite: Logging initialized.\n",
      "Starting BioImageSuiteLite...\n",
      "Please look for the new GUI window that will open.\n",
      "Note: The notebook cell will continue running while the GUI is open.\n",
      "2025-06-15 11:15:31 [INFO] BioImageSuiteLite: Logging initialized.\n",
      "INFO: Pixel size set to 0.160 µm/pixel.\n"
     ]
    },
    {
     "name": "stderr",
     "output_type": "stream",
     "text": [
      "c:\\kaushik\\project_work\\BioImageSuiteLite\\BioImageSuiteLite\\gui_manager.py:200: FutureWarning: Public access to Window.qt_viewer is deprecated and will be removed in\n",
      "v0.7.0. It is considered an \"implementation detail\" of the napari\n",
      "application, not part of the napari viewer model. If your use case\n",
      "requires access to qt_viewer, please open an issue to discuss.\n",
      "  splitter.setSizes([int(self.viewer.window.qt_viewer.height() * 0.6), int(self.viewer.window.qt_viewer.height() * 0.4)]) # Initial sizes\n"
     ]
    },
    {
     "name": "stdout",
     "output_type": "stream",
     "text": [
      "2025-06-15 11:16:20 [INFO] BioImageSuiteLite.io_operations: Frame details from actual read data: Count=1200, H=237, W=237\n",
      "2025-06-15 11:16:20 [INFO] BioImageSuiteLite.io_operations: Successfully loaded C:/Kaushik/project_work/BioImageSuiteLite/examples/s03.avi. Frames: 1200, FPS: 10.0, Dimensions: 237x237\n"
     ]
    },
    {
     "name": "stderr",
     "output_type": "stream",
     "text": [
      "WARNING: DirectWrite: CreateFontFaceFromHDC() failed (Indicates an error in an input file such as a font file.) for QFontDef(Family=\"\", pointsize=12, pixelsize=16, styleHint=5, weight=50, stretch=100, hintingPreference=0) LOGFONT(\"MS Sans Serif\", lfWidth=0, lfHeight=-16) dpi=96\n"
     ]
    },
    {
     "name": "stdout",
     "output_type": "stream",
     "text": [
      "2025-06-15 11:16:21 [WARNING] vispy: DirectWrite: CreateFontFaceFromHDC() failed (Indicates an error in an input file such as a font file.) for QFontDef(Family=\"\", pointsize=12, pixelsize=16, styleHint=5, weight=50, stretch=100, hintingPreference=0) LOGFONT(\"MS Sans Serif\", lfWidth=0, lfHeight=-16) dpi=96\n",
      "INFO: ROI drawing mode: OFF. Shapes layer in select mode.\n",
      "INFO: AVI loaded and converted to greyscale.\n",
      "INFO: ROI drawing mode: ON. Draw polygons. Double-click or Esc to finish a polygon.\n",
      "INFO: All ROIs cleared.\n",
      "INFO: ROI drawing mode: ON. Draw polygons. Double-click or Esc to finish a polygon.\n",
      "INFO: All ROIs cleared.\n",
      "INFO: ROI drawing mode: ON. Draw polygons. Double-click or Esc to finish a polygon.\n",
      "INFO: Pixel size set to 0.001 µm/pixel.\n",
      "INFO: All ROIs cleared.\n",
      "INFO: ROI drawing mode: ON. Draw polygons. Double-click or Esc to finish a polygon.\n",
      "WARNING: Please select one or more ROIs in the Shapes layer to auto-set parameters.\n",
      "INFO: ROI drawing mode: OFF. Shapes layer in select mode.\n",
      "INFO: All ROIs cleared.\n",
      "INFO: ROI drawing mode: ON. Draw polygons. Double-click or Esc to finish a polygon.\n",
      "2025-06-15 11:18:12 [INFO] BioImageSuiteLite.roi_handler: Added ROI 1 (Shape index: 0) with 5 vertices.\n",
      "INFO: ROI 1 added (Area: 43.0 px, 0.00 µm²).\n",
      "2025-06-15 11:18:12 [INFO] BioImageSuiteLite: Automatically selected new ROI (Shape index: 0).\n",
      "2025-06-15 11:18:16 [INFO] BioImageSuiteLite.roi_handler: Added ROI 2 (Shape index: 1) with 5 vertices.\n",
      "INFO: ROI 2 added (Area: 20.0 px, 0.00 µm²).\n",
      "2025-06-15 11:18:16 [INFO] BioImageSuiteLite: Automatically selected new ROI (Shape index: 1).\n",
      "2025-06-15 11:18:19 [INFO] BioImageSuiteLite.roi_handler: Added ROI 3 (Shape index: 2) with 5 vertices.\n",
      "INFO: ROI 3 added (Area: 13.0 px, 0.00 µm²).\n",
      "2025-06-15 11:18:19 [INFO] BioImageSuiteLite: Automatically selected new ROI (Shape index: 2).\n",
      "2025-06-15 11:18:22 [INFO] BioImageSuiteLite.roi_handler: Added ROI 4 (Shape index: 3) with 7 vertices.\n",
      "INFO: ROI 4 added (Area: 25.0 px, 0.00 µm²).\n",
      "2025-06-15 11:18:22 [INFO] BioImageSuiteLite: Automatically selected new ROI (Shape index: 3).\n",
      "2025-06-15 11:18:26 [INFO] BioImageSuiteLite.roi_handler: Added ROI 5 (Shape index: 4) with 6 vertices.\n",
      "INFO: ROI 5 added (Area: 40.0 px, 0.00 µm²).\n",
      "2025-06-15 11:18:26 [INFO] BioImageSuiteLite: Automatically selected new ROI (Shape index: 4).\n",
      "2025-06-15 11:18:28 [INFO] BioImageSuiteLite.roi_handler: Added ROI 6 (Shape index: 5) with 6 vertices.\n",
      "INFO: ROI 6 added (Area: 45.0 px, 0.00 µm²).\n",
      "2025-06-15 11:18:28 [INFO] BioImageSuiteLite: Automatically selected new ROI (Shape index: 5).\n",
      "INFO: Pixel size set to 1.000 µm/pixel.\n",
      "INFO: Pixel size set to 1.000 µm/pixel.\n",
      "INFO: Estimating parameters from single selected ROI: 6.\n",
      "2025-06-15 11:18:41 [INFO] BioImageSuiteLite.analysis_processor: Estimated DoG params: sigma1=2.69, sigma2=4.30, prominence=16.04\n",
      "INFO: Successfully updated DoG parameters based on selection.\n",
      "2025-06-15 11:19:10 [WARNING] BioImageSuiteLite: Deletion detected, but not handled yet. Indices: {5}\n",
      "2025-06-15 11:19:22 [INFO] BioImageSuiteLite: --- Starting Full Analysis ---\n",
      "2025-06-15 11:19:22 [INFO] BioImageSuiteLite: Analyzing ROI ID: 1, Area: 43.0 px, 43.00 µm²\n",
      "2025-06-15 11:19:22 [INFO] BioImageSuiteLite.analysis_processor: ROI 1: Threshold detection found 0 events.\n",
      "2025-06-15 11:19:22 [INFO] BioImageSuiteLite.analysis_processor: ROI 1: DoG detection found 0 events (peaks).\n",
      "2025-06-15 11:19:22 [INFO] BioImageSuiteLite: ROI 1: Total detected (raw) = 0, Filtered = 0, Norm. Rate = 0.0000e+00 ± 0.00e+00\n",
      "2025-06-15 11:19:22 [INFO] BioImageSuiteLite: Analyzing ROI ID: 2, Area: 20.0 px, 20.00 µm²\n",
      "2025-06-15 11:19:22 [INFO] BioImageSuiteLite.analysis_processor: ROI 2: Threshold detection found 0 events.\n",
      "2025-06-15 11:19:22 [INFO] BioImageSuiteLite.analysis_processor: ROI 2: DoG detection found 0 events (peaks).\n",
      "2025-06-15 11:19:22 [INFO] BioImageSuiteLite: ROI 2: Total detected (raw) = 0, Filtered = 0, Norm. Rate = 0.0000e+00 ± 0.00e+00\n",
      "2025-06-15 11:19:22 [INFO] BioImageSuiteLite: Analyzing ROI ID: 3, Area: 13.0 px, 13.00 µm²\n",
      "2025-06-15 11:19:22 [INFO] BioImageSuiteLite.analysis_processor: ROI 3: Threshold detection found 0 events.\n",
      "2025-06-15 11:19:22 [INFO] BioImageSuiteLite.analysis_processor: ROI 3: DoG detection found 0 events (peaks).\n",
      "2025-06-15 11:19:22 [INFO] BioImageSuiteLite: ROI 3: Total detected (raw) = 0, Filtered = 0, Norm. Rate = 0.0000e+00 ± 0.00e+00\n",
      "2025-06-15 11:19:22 [INFO] BioImageSuiteLite: Analyzing ROI ID: 4, Area: 25.0 px, 25.00 µm²\n",
      "2025-06-15 11:19:22 [INFO] BioImageSuiteLite.analysis_processor: ROI 4: Threshold detection found 0 events.\n",
      "2025-06-15 11:19:22 [INFO] BioImageSuiteLite.analysis_processor: ROI 4: DoG detection found 0 events (peaks).\n",
      "2025-06-15 11:19:22 [INFO] BioImageSuiteLite: ROI 4: Total detected (raw) = 0, Filtered = 0, Norm. Rate = 0.0000e+00 ± 0.00e+00\n",
      "2025-06-15 11:19:22 [INFO] BioImageSuiteLite: Analyzing ROI ID: 5, Area: 40.0 px, 40.00 µm²\n",
      "2025-06-15 11:19:22 [INFO] BioImageSuiteLite.analysis_processor: ROI 5: Threshold detection found 0 events.\n",
      "2025-06-15 11:19:22 [INFO] BioImageSuiteLite.analysis_processor: ROI 5: DoG detection found 0 events (peaks).\n",
      "2025-06-15 11:19:22 [INFO] BioImageSuiteLite: ROI 5: Total detected (raw) = 0, Filtered = 0, Norm. Rate = 0.0000e+00 ± 0.00e+00\n",
      "2025-06-15 11:19:22 [INFO] BioImageSuiteLite: Analyzing ROI ID: 6, Area: 45.0 px, 45.00 µm²\n",
      "2025-06-15 11:19:22 [INFO] BioImageSuiteLite.analysis_processor: ROI 6: Threshold detection found 0 events.\n",
      "2025-06-15 11:19:22 [INFO] BioImageSuiteLite.analysis_processor: ROI 6: DoG detection found 1 events (peaks).\n",
      "2025-06-15 11:19:22 [INFO] BioImageSuiteLite.analysis_processor: Filtered duplicates: 1 -> 1 events (min_sep: 0.5s).\n",
      "2025-06-15 11:19:22 [INFO] BioImageSuiteLite: ROI 6: Total detected (raw) = 1, Filtered = 1, Norm. Rate = 1.8519e-04 ± 1.85e-04\n",
      "INFO: Analysis complete. Total 1 unique events found across all ROIs.\n",
      "2025-06-15 11:19:22 [INFO] BioImageSuiteLite: --- Full Analysis Finished ---\n",
      "2025-06-15 11:19:34 [INFO] BioImageSuiteLite: Generating summary plot with standard errors...\n",
      "2025-06-15 11:19:42 [INFO] BioImageSuiteLite: Summary plot with standard errors displayed.\n"
     ]
    }
   ],
   "source": [
    "# Import the main function that starts the GUI\n",
    "from BioImageSuiteLite.gui_manager import main\n",
    "\n",
    "# Run the application\n",
    "print(\"Starting BioImageSuiteLite...\")\n",
    "print(\"Please look for the new GUI window that will open.\")\n",
    "print(\"Note: The notebook cell will continue running while the GUI is open.\")\n",
    "\n",
    "# Launch the GUI\n",
    "main()\n"
   ]
  },
  {
   "cell_type": "code",
   "execution_count": null,
   "metadata": {},
   "outputs": [],
   "source": [
    "## Quick Start Guide\n",
    "\n",
    "Once the GUI is running, follow these steps:\n",
    "\n",
    "### 1. Load Your Data\n",
    "- Click **\"Load File\"** to import your video data\n",
    "- Supported formats: `.avi` files and multi-page `.tif`/`.tiff` files\n",
    "- The tool will automatically convert color videos to greyscale for analysis\n",
    "\n",
    "### 2. Define Region of Interest (ROI)\n",
    "- Click **\"Activate ROI Drawing\"** button\n",
    "- Draw polygons around the cells or areas you want to analyze\n",
    "- You can create multiple ROIs\n",
    "- Click **\"Finish ROI Drawing\"** when done\n",
    "\n",
    "### 3. Configure Analysis Parameters\n",
    "- **Threshold Detection**: Enable and set threshold value or use Otsu's method\n",
    "- **DoG Detection**: Set Sigma 1, Sigma 2, and Min Prominence values\n",
    "- **Min Event Separation**: Set the minimum time between events (default 0.5s)\n",
    "\n",
    "### 4. Run Analysis\n",
    "- Click the **\"Run Full Analysis\"** button\n",
    "- The tool will process your data and detect events\n",
    "\n",
    "### 5. View and Export Results\n",
    "- View results in the table showing ROI ID, event type, timing, and normalized rate\n",
    "- Click **\"Show Summary Plot\"** to see event rates across ROIs\n",
    "- Click **\"Export Results to CSV\"** to save your analysis data\n"
   ]
  },
  {
   "cell_type": "code",
   "execution_count": null,
   "metadata": {},
   "outputs": [],
   "source": [
    "## Additional Resources\n",
    "\n",
    "- **User Guide**: See the full [User Guide](../UserGuide.md) for detailed instructions\n",
    "- **GitHub Repository**: Visit our [GitHub page](https://github.com/raju1stnov/BioImageSuiteLite) for updates and issues\n",
    "- **Sample Data**: Check the `examples` folder for sample datasets\n",
    "\n",
    "## Troubleshooting\n",
    "\n",
    "If you encounter any issues:\n",
    "1. Ensure all dependencies are installed: `pip install -r requirements.txt`\n",
    "2. Check that you have the correct Python version (3.8+)\n",
    "3. For GUI issues, ensure you have a display connected (or use X11 forwarding if remote)\n",
    "\n",
    "For more help, please open an issue on our GitHub repository.\n"
   ]
  }
 ],
 "metadata": {
  "kernelspec": {
   "display_name": "bio_venv",
   "language": "python",
   "name": "python3"
  },
  "language_info": {
   "codemirror_mode": {
    "name": "ipython",
    "version": 3
   },
   "file_extension": ".py",
   "mimetype": "text/x-python",
   "name": "python",
   "nbconvert_exporter": "python",
   "pygments_lexer": "ipython3",
   "version": "3.11.1"
  }
 },
 "nbformat": 4,
 "nbformat_minor": 2
}
