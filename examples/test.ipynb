{
 "cells": [
  {
   "cell_type": "markdown",
   "metadata": {},
   "source": [
    "\"<!-- ![Load File Button Location](images/load_file_button.png) -->\"\n",
    "\"\\\"![Load File Button Location](https://raw.githubusercontent.com/raju1stnov/BioImageSuiteLite/main/examples/images/load_file_button.png)\\\"\"\n",
    "\"**After loading, you should see:**\""
   ]
  },
  {
   "cell_type": "code",
   "execution_count": 5,
   "metadata": {},
   "outputs": [
    {
     "data": {
      "text/html": [
       "<img src=\"https://raw.githubusercontent.com/raju1stnov/BioImageSuiteLite/main/examples/images/load_file_button.png\"/>"
      ],
      "text/plain": [
       "<IPython.core.display.Image object>"
      ]
     },
     "metadata": {},
     "output_type": "display_data"
    }
   ],
   "source": [
    "from IPython.display import Image, display\n",
    "\n",
    "# Provide the raw URL of the image\n",
    "image_url = \"https://raw.githubusercontent.com/raju1stnov/BioImageSuiteLite/main/examples/images/load_file_button.png\"\n",
    "\n",
    "# Display the image\n",
    "display(Image(url=image_url))"
   ]
  }
 ],
 "metadata": {
  "kernelspec": {
   "display_name": "bio_venv",
   "language": "python",
   "name": "python3"
  },
  "language_info": {
   "codemirror_mode": {
    "name": "ipython",
    "version": 3
   },
   "file_extension": ".py",
   "mimetype": "text/x-python",
   "name": "python",
   "nbconvert_exporter": "python",
   "pygments_lexer": "ipython3",
   "version": "3.11.1"
  }
 },
 "nbformat": 4,
 "nbformat_minor": 2
}
